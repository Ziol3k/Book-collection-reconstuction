{
 "cells": [
  {
   "cell_type": "code",
   "id": "initial_id",
   "metadata": {
    "ExecuteTime": {
     "end_time": "2025-04-12T14:17:38.053431Z",
     "start_time": "2025-04-12T14:17:24.787730Z"
    }
   },
   "source": [
    "# Sprawdzanie poprawności instalacji pakietów i CUDA\n",
    "\n",
    "# Importowanie niezbędnych modułów\n",
    "import torch\n",
    "import torchvision\n",
    "import numpy as np\n",
    "import pandas as pd\n",
    "import matplotlib\n",
    "import sklearn\n",
    "import sys\n",
    "\n",
    "print(\"==== Sprawdzenie wersji Python ====\")\n",
    "print(f\"Python version: {sys.version}\")\n",
    "print()\n",
    "\n",
    "print(\"==== Sprawdzenie PyTorch ====\")\n",
    "print(f\"PyTorch version: {torch.__version__}\")\n",
    "print(f\"CUDA dostępne: {torch.cuda.is_available()}\")\n",
    "if torch.cuda.is_available():\n",
    "    print(f\"CUDA wersja: {torch.version.cuda}\")\n",
    "    print(f\"GPU: {torch.cuda.get_device_name(0)}\")\n",
    "print()\n",
    "\n",
    "print(\"==== Sprawdzenie Torchvision ====\")\n",
    "print(f\"Torchvision version: {torchvision.__version__}\")\n",
    "print()\n",
    "\n",
    "print(\"==== Sprawdzenie NumPy ====\")\n",
    "print(f\"NumPy version: {np.__version__}\")\n",
    "print()\n",
    "\n",
    "print(\"==== Sprawdzenie Pandas ====\")\n",
    "print(f\"Pandas version: {pd.__version__}\")\n",
    "print()\n",
    "\n",
    "print(\"==== Sprawdzenie Matplotlib ====\")\n",
    "print(f\"Matplotlib version: {matplotlib.__version__}\")\n",
    "print()\n",
    "\n",
    "print(\"==== Sprawdzenie Scikit-learn ====\")\n",
    "print(f\"Scikit-learn version: {sklearn.__version__}\")\n",
    "print()\n",
    "\n",
    "print(\"==== Wszystko zostało sprawdzone! ====\")\n"
   ],
   "outputs": [
    {
     "name": "stdout",
     "output_type": "stream",
     "text": [
      "==== Sprawdzenie wersji Python ====\n",
      "Python version: 3.8.20 (default, Oct  3 2024, 15:19:54) [MSC v.1929 64 bit (AMD64)]\n",
      "\n",
      "==== Sprawdzenie PyTorch ====\n",
      "PyTorch version: 2.4.1\n",
      "CUDA dostępne: True\n",
      "CUDA wersja: 11.8\n",
      "GPU: NVIDIA GeForce RTX 3060\n",
      "\n",
      "==== Sprawdzenie Torchvision ====\n",
      "Torchvision version: 0.20.0\n",
      "\n",
      "==== Sprawdzenie NumPy ====\n",
      "NumPy version: 1.24.3\n",
      "\n",
      "==== Sprawdzenie Pandas ====\n",
      "Pandas version: 2.0.3\n",
      "\n",
      "==== Sprawdzenie Matplotlib ====\n",
      "Matplotlib version: 3.7.2\n",
      "\n",
      "==== Sprawdzenie Scikit-learn ====\n",
      "Scikit-learn version: 1.3.0\n",
      "\n",
      "==== Wszystko zostało sprawdzone! ====\n"
     ]
    }
   ],
   "execution_count": 1
  },
  {
   "metadata": {},
   "cell_type": "code",
   "outputs": [],
   "execution_count": null,
   "source": "",
   "id": "3cf8fda8762403dd"
  }
 ],
 "metadata": {
  "kernelspec": {
   "display_name": "Book_collection_reconstruction",
   "language": "python",
   "name": "book_collection_reconstruction"
  },
  "language_info": {
   "codemirror_mode": {
    "name": "ipython",
    "version": 3
   },
   "file_extension": ".py",
   "mimetype": "text/x-python",
   "name": "python",
   "nbconvert_exporter": "python",
   "pygments_lexer": "ipython3",
   "version": "3.8.20"
  }
 },
 "nbformat": 4,
 "nbformat_minor": 5
}
