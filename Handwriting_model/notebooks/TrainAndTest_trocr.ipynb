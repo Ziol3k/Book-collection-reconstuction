{
 "cells": [
  {
   "metadata": {},
   "cell_type": "markdown",
   "source": [
    "# TrOCR: Analiza i Ulepszenia\n",
    "\n",
    "## Wprowadzenie\n",
    "\n",
    "W ramach tego eksperymentu pracowałem nad modelem **TrOCR**, próbując nauczyć go odczytywania pisma odręcznego. Pierwsza wersja kodu implementowała podstawowe podejście, natomiast druga została ulepszona o kilka technik optymalizacyjnych.\n",
    "\n",
    "Pomimo użycia wysokiej jakości danych, **trening trwał bardzo długo**, a wyniki, choć nieco lepsze po wprowadzeniu optymalizacji, nadal nie były satysfakcjonujące. W związku z tym zdecydowałem się **zmienić kierunek prac** – zamiast kontynuować rozwijanie tego modelu, skupię się na **kolejnym kroku**, czyli **analizie i uzupełnianiu już odczytanych danych**.\n",
    "\n",
    "---\n",
    "\n",
    "## Struktura projektu\n",
    "W tym notebooku omówimy:\n",
    "1. **Pierwszą wersję kodu (`train_trocr.py`)** – podstawowy model TrOCR bez dodatkowych optymalizacji.\n",
    "2. **Drugą wersję kodu (`train_trocr2.py`)** – ulepszony model z regularyzacją, mieszanym treningiem na GPU i wersjonowaniem wyników.\n",
    "3. **Porównanie wyników** obu podejść oraz ich wpływ na proces treningu.\n",
    "4. **Wnioski** na temat trudności w trenowaniu modeli OCR dla pisma odręcznego i dalszych kroków w projekcie.\n",
    "\n",
    "---\n",
    "\n",
    "## 1. Pierwsza wersja kodu (`train_trocr.py`)\n",
    "\n",
    "Plik: **train_trocr.py**\n",
    "\n",
    "### Główne elementy:\n",
    "- **Załadunek modelu i procesora**:\n",
    "\n"
   ],
   "id": "d43bab25d8e56bb"
  },
  {
   "metadata": {
    "collapsed": true
   },
   "cell_type": "code",
   "outputs": [],
   "execution_count": null,
   "source": [
    "processor = TrOCRProcessor.from_pretrained(\"microsoft/trocr-base-stage1\")\n",
    "model = VisionEncoderDecoderModel.from_pretrained(\"microsoft/trocr-base-stage1\")"
   ],
   "id": "initial_id"
  },
  {
   "metadata": {},
   "cell_type": "markdown",
   "source": "- **Optymalizator bez regularyzacji:**",
   "id": "cdd1e5f64cf80f62"
  },
  {
   "metadata": {},
   "cell_type": "code",
   "outputs": [],
   "execution_count": null,
   "source": "optimizer = torch.optim.AdamW(model.parameters(), lr=5e-5)",
   "id": "f8e71aae40906fe2"
  },
  {
   "metadata": {},
   "cell_type": "markdown",
   "source": "- **Proces treningowy:**",
   "id": "8b8e82da2147dbca"
  },
  {
   "metadata": {},
   "cell_type": "code",
   "outputs": [],
   "execution_count": null,
   "source": [
    "for epoch in range(num_epochs):\n",
    "    train_loss = train_epoch(model, train_loader, optimizer, device, epoch)\n",
    "    val_loss = validate_epoch(model, val_loader, device, epoch)\n",
    "    print(f\"Epoch {epoch+1} - Train Loss: {train_loss:.4f} - Val Loss: {val_loss:.4f}\")\n"
   ],
   "id": "3d575aed1b612b3e"
  },
  {
   "metadata": {},
   "cell_type": "markdown",
   "source": [
    "- **Problemy:**\n",
    "\n",
    "    - ***Brak regularyzacji (weight_decay) – może prowadzić do przeuczenia modelu.***\n",
    "\n",
    "    - ***Trening w pełnej precyzji (float32), co może być wolniejsze na GPU.***\n",
    "\n",
    "    - ***Brak automatycznego zapisu wersji modelu po każdej epoce.***"
   ],
   "id": "431888f0544a1f16"
  },
  {
   "metadata": {},
   "cell_type": "markdown",
   "source": [
    "---\n",
    "\n",
    "## 2. Ulepszona wersja kodu (train_trocr2.py)\n",
    "Plik: train_trocr2.py\n",
    "\n",
    "## Ulepszenia:\n",
    "   - ***Dodanie regularyzacji weight_decay***\n",
    "      - Zapobiega przeuczeniu modelu."
   ],
   "id": "7f124806672247f4"
  },
  {
   "metadata": {},
   "cell_type": "code",
   "outputs": [],
   "execution_count": null,
   "source": "optimizer = torch.optim.AdamW(model.parameters(), lr=5e-5, weight_decay=1e-2)\n",
   "id": "31e7d8ba39745a7e"
  },
  {
   "metadata": {},
   "cell_type": "markdown",
   "source": [
    "- ***Zastosowanie mieszanej precyzji (float16) dla szybszego treningu na GPU***\n",
    "    - Skraca czas trenowania i zmniejsza zużycie pamięci GPU."
   ],
   "id": "6d7691074e5ca6f1"
  },
  {
   "metadata": {},
   "cell_type": "code",
   "outputs": [],
   "execution_count": null,
   "source": [
    "from torch.amp import GradScaler, autocast\n",
    "\n",
    "scaler = GradScaler()\n",
    "with autocast(device_type='cuda'):\n",
    "    outputs = model(pixel_values=images, labels=labels)\n",
    "    loss = outputs.loss\n"
   ],
   "id": "b1afaafc50ef52b"
  },
  {
   "metadata": {},
   "cell_type": "markdown",
   "source": [
    "---\n",
    "## 3. Przeprowadzanie testów\n",
    "Plik: test_trocr.py\n",
    "\n",
    "Po zakończeniu treningu modelu przeprowadziłem testy na wcześniej przygotowanym zestawie danych. Testy miały na celu sprawdzenie, jak dobrze model radzi sobie z przewidywaniem tekstu na nowych obrazach z pismem odręcznym.\n",
    "\n",
    "## Jak wyglądał proces testowania?\n",
    "***1. Załadowanie modelu i danych testowych:***\n",
    "\n",
    "Model został wczytany z zapisanej wersji (../models/trocr*).\n",
    "\n",
    "Zestaw testowy zawierał obrazy linii tekstu oraz odpowiadające im etykiety (data/test/lines/ oraz data/processed/labels.json).\n",
    "\n",
    "***2. Przetwarzanie obrazów i tokenizacja etykiet***\n",
    "\n",
    "***3. Generowanie przewidywań przez model***\n",
    "\n",
    "***4. Wyniki były porównywane z rzeczywistymi etykietami (ground_truths vs predictions)***\n",
    "\n",
    "***5. Zapisywanie wyników do pliku:***\n",
    "\n",
    "Wszystkie przewidywania wraz z rzeczywistymi etykietami zostały zapisane w test_results*.txt, co pozwoliło na późniejszą analizę błędów."
   ],
   "id": "c41abb5fbaa9ca7b"
  },
  {
   "metadata": {},
   "cell_type": "markdown",
   "source": [
    "---\n",
    "## 4. Porównanie wyników\n",
    "\n",
    "- Czy ulepszenia poprawiły wyniki?\n",
    "\n",
    "Nie było dużej poprawy – mimo zmian model nadal miał trudności z dokładnym rozpoznawaniem pisma odręcznego.\n",
    "\n",
    "Problem generalizacji – model działał lepiej na danych treningowych, ale miał trudności na nowych przykładach.\n",
    "\n",
    " - Dlaczego wyniki są wciąż nieidealne?\n",
    "\n",
    "TrOCR wymaga bardzo dużych ilości wysokiej jakości danych, których nie zawsze można łatwo znaleźć.\n",
    "\n",
    "Trening pisma odręcznego jest znacznie trudniejszy niż drukowanego tekstu – zmienność stylów pisania utrudnia jednoznaczne rozpoznanie.\n",
    "\n",
    "Czas treningu był bardzo długi, a efekty nie były proporcjonalne do włożonego wysiłku."
   ],
   "id": "e6966ea16faed52c"
  },
  {
   "metadata": {},
   "cell_type": "markdown",
   "source": [
    "## 5. Wnioski i dalsze kroki\n",
    "\n",
    "- Podsumowanie:\n",
    "TrOCR może być skuteczny, ale wymaga znacznie większej ilości danych i dłuższego czasu treningu.\n",
    "\n",
    "Optymalizacje pomogły poprawić wydajność, ale nie rozwiązały fundamentalnych problemów modelu.\n",
    "\n",
    "Model nadal ma trudności z precyzyjnym rozpoznawaniem pisma odręcznego, szczególnie jeśli styl jest nieregularny.\n",
    "\n",
    "- Co dalej?\n",
    "\n",
    "Z uwagi na ograniczenia i trudność dalszego rozwijania tego modelu, na tym etapie porzucam dalsze próby jego ulepszania. Kolejnym krokiem będzie: Analiza oraz uzupełnienie już odczytanych danych, aby poprawić jakość istniejących wyników zamiast próbować ulepszać model OCR."
   ],
   "id": "3a5d76831e50d8c6"
  }
 ],
 "metadata": {
  "kernelspec": {
   "display_name": "Python 3",
   "language": "python",
   "name": "python3"
  },
  "language_info": {
   "codemirror_mode": {
    "name": "ipython",
    "version": 2
   },
   "file_extension": ".py",
   "mimetype": "text/x-python",
   "name": "python",
   "nbconvert_exporter": "python",
   "pygments_lexer": "ipython2",
   "version": "2.7.6"
  }
 },
 "nbformat": 4,
 "nbformat_minor": 5
}
