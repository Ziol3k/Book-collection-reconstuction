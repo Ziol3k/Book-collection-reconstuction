{
 "cells": [
  {
   "metadata": {},
   "cell_type": "markdown",
   "source": [
    "# Przygotowanie danych do projektu rozpoznawania pisma ręcznego\n",
    "\n",
    "Ten notebook wyjaśnia, jak przygotować dane do projektu rozpoznawania pisma ręcznego (HTR - Handwritten Text Recognition).\n",
    "\n",
    "---\n",
    "\n",
    "## **Informacje o danych**\n",
    "- **Nazwa zbioru danych**: IAM Handwriting Database\n",
    "- **Źródło danych**: [IAM Handwriting Database](http://www.fki.inf.unibe.ch/databases/iam-handwriting-database)\n",
    "- **Warunki użytkowania**:\n",
    "  - Dane są dostępne wyłącznie do celów badań niekomercyjnych.\n",
    "  - Jeśli korzystasz z tych danych, musisz zarejestrować się na stronie projektu.\n",
    "  - Przy publikacji pracy naukowej prosimy o odniesienie się do artykułu: *\"The IAM-Database: An English Sentence Database for Off-line Handwriting Recognition\"*.\n",
    "\n",
    "---\n",
    "\n",
    "## **Kroki**\n",
    "1. Utworzenie struktury folderów.\n",
    "2. Rozpakowanie zbioru danych.\n",
    "3. Uruchomienie skryptów Python:\n",
    "   - `create_labels.py` - Tworzy plik mapujący obrazy na teksty (`labels.json`).\n",
    "   - `proccess_images.py` - Przetwarza obrazy na odpowiedni format i rozmiar.\n",
    "   - `generate_split.py` - Generuje podział danych na zbiory treningowy, walidacyjny i testowy.\n",
    "   - `split_data.py` - Przenosi dane do odpowiednich folderów na podstawie podziału.\n"
   ],
   "id": "2a232c52da5dd6dc"
  },
  {
   "metadata": {},
   "cell_type": "markdown",
   "source": [
    "---\n",
    "\n",
    "# Tworzenie struktury katalogów"
   ],
   "id": "44c8d204ee1ac169"
  },
  {
   "metadata": {},
   "cell_type": "code",
   "source": [
    "# Tworzenie struktury katalogów\n",
    "import os\n",
    "\n",
    "folders = [\n",
    "    \"../data/raw/\",\n",
    "    \"../data/raw/ascii/\",\n",
    "    \"../data/raw/lines/\",\n",
    "    \"../data/processed/lines/\",\n",
    "    \"../data/train/lines/\",\n",
    "    \"../data/test/lines/\",\n",
    "    \"../data/val/lines/\"\n",
    "]\n",
    "\n",
    "for folder in folders:\n",
    "    os.makedirs(folder, exist_ok=True)\n",
    "    print(f\"Utworzono folder: {folder}\")\n"
   ],
   "id": "e3893a79f81f9fe1",
   "outputs": [],
   "execution_count": null
  },
  {
   "metadata": {},
   "cell_type": "markdown",
   "source": [
    "## Rozpakowanie zbioru danych\n",
    "\n",
    "IAM Handwriting Database dostarcza dane w formie spakowanej (`.tgz`). Dlatego należy rozpakować pliki `ascii.tgz` i `lines.tgz` do odpowiednich folderów.\n"
   ],
   "id": "23d6004f66023700"
  },
  {
   "metadata": {},
   "cell_type": "code",
   "source": [
    "import tarfile\n",
    "\n",
    "# Ścieżki do plików archiwum\n",
    "ascii_archive = \"../data/ascii.tgz\"\n",
    "lines_archive = \"../data/lines.tgz\"\n",
    "\n",
    "# Rozpakowanie ascii.tgz\n",
    "with tarfile.open(ascii_archive, \"r:gz\") as tar:\n",
    "    tar.extractall(path=\"../data/raw/ascii/\")\n",
    "    print(f\"Rozpakowano {ascii_archive}\")\n",
    "\n",
    "# Rozpakowanie lines.tgz\n",
    "with tarfile.open(lines_archive, \"r:gz\") as tar:\n",
    "    tar.extractall(path=\"../data/raw/lines/\")\n",
    "    print(f\"Rozpakowano {lines_archive}\")\n"
   ],
   "id": "8335b912d6d1c66e",
   "outputs": [],
   "execution_count": null
  },
  {
   "metadata": {},
   "cell_type": "markdown",
   "source": [
    "## Generowanie pliku `labels.json`\n",
    "\n",
    "Teraz należy wykonać skrypt `create_labels.py`, który przekształci dane z pliku `lines.txt` w mapowanie plików obrazów na odpowiadające im teksty. Wynikowy plik zostanie zapisany jako `labels.json`.\n",
    "\n"
   ],
   "id": "81e93f19dd1cd5c0"
  },
  {
   "metadata": {},
   "cell_type": "code",
   "source": "!python ../src/create_labels.py\n",
   "id": "78ac0179ecca7d50",
   "outputs": [],
   "execution_count": null
  },
  {
   "metadata": {},
   "cell_type": "markdown",
   "source": [
    "## Przetwarzanie obrazów\n",
    "\n",
    "Uruchomimy skrypt `proccess_images.py`, który:\n",
    "1. Rekurencyjnie przejdzie przez wszystkie foldery w `data/raw/lines/`.\n",
    "2. Przetworzy obrazy do skali szarości.\n",
    "3. Zmieni rozmiar obrazów na `384x384`.\n",
    "4. Zapisze wynik w folderze `data/processed/lines/`.\n"
   ],
   "id": "59f19ee8425f651b"
  },
  {
   "metadata": {},
   "cell_type": "code",
   "source": "!python ../src/proccess_images.py\n",
   "id": "cdd704722cca0324",
   "outputs": [],
   "execution_count": null
  },
  {
   "metadata": {},
   "cell_type": "markdown",
   "source": [
    "## Generowanie podziału na zbiory\n",
    "\n",
    "Skrypt `generate_split.py` losowo podzieli przetworzone dane na:\n",
    "- Zbiór treningowy (80% danych).\n",
    "- Zbiór testowy (10% danych).\n",
    "- Zbiór walidacyjny (10% danych).\n",
    "\n",
    "Wynikowy podział zostanie zapisany w pliku `train-test-split.txt`.\n"
   ],
   "id": "6a1b27f96dbb732a"
  },
  {
   "metadata": {},
   "cell_type": "code",
   "source": "!python ../src/generate_split.py\n",
   "id": "f87212e5b4b27c14",
   "outputs": [],
   "execution_count": null
  },
  {
   "metadata": {},
   "cell_type": "markdown",
   "source": [
    "## Organizacja danych w katalogach\n",
    "\n",
    "Na koniec należy uruchomić skrypt `split_data.py`, który:\n",
    "1. Przeniesie dane zgodnie z plikiem `train-test-split.txt`.\n",
    "2. Uporządkuje dane w folderach `train/`, `test/` i `val/`.\n"
   ],
   "id": "92e62a530a42ea18"
  },
  {
   "metadata": {},
   "cell_type": "code",
   "source": "!python ../src/split_data.py\n",
   "id": "d490e25148446804",
   "outputs": [],
   "execution_count": null
  },
  {
   "metadata": {},
   "cell_type": "markdown",
   "source": [
    "# Podsumowanie\n",
    "\n",
    "Dane powinny zostać poprawnie przygotowane:\n",
    "- **Przetworzone obrazy**: `../data/processed/lines/`.\n",
    "- **Zbiory danych**:\n",
    "  - Zbiór treningowy: `../data/train/lines/`.\n",
    "  - Zbiór testowy: `../data/test/lines/`.\n",
    "  - Zbiór walidacyjny: `../data/val/lines/`.\n",
    "\n"
   ],
   "id": "52e326b027da51b0"
  }
 ],
 "metadata": {
  "kernelspec": {
   "display_name": "Python 3",
   "language": "python",
   "name": "python3"
  },
  "language_info": {
   "codemirror_mode": {
    "name": "ipython",
    "version": 2
   },
   "file_extension": ".py",
   "mimetype": "text/x-python",
   "name": "python",
   "nbconvert_exporter": "python",
   "pygments_lexer": "ipython2",
   "version": "2.7.6"
  }
 },
 "nbformat": 4,
 "nbformat_minor": 5
}
