{
 "cells": [
  {
   "metadata": {},
   "cell_type": "markdown",
   "source": [
    "# OCR Error Correction – Benchmarking and Fine-Tuning\n",
    "\n",
    "Ten notebook testuje oraz uczy modele do naprawy błędów OCR, bazując na danych wygenerowanych w poprzednich krokach.\n",
    "\n",
    "**Kroki:**\n",
    "1. Test naprawy z domyślnym (nietrenowanym) modelem T5 i BART\n",
    "2. Ocena wyników (metryki, wykresy)\n",
    "3. Przygotowanie własnych par: oryginał + 9 wersji z błędami (trening), 10-ta wersja (test)\n",
    "4. Fine-tuning modelu na własnych danych i powtórzenie oceny\n",
    "5. Treening modeli na własnych danych\n",
    "6. test wytrenowanych modeli\n"
   ],
   "id": "7b51bdf2d03855e1"
  },
  {
   "metadata": {},
   "cell_type": "markdown",
   "source": "## Import bibliotek",
   "id": "1115affb08f5e1b6"
  },
  {
   "metadata": {
    "ExecuteTime": {
     "end_time": "2025-06-12T21:11:06.677054Z",
     "start_time": "2025-06-12T21:11:06.672961Z"
    }
   },
   "cell_type": "code",
   "source": [
    "import pandas as pd\n",
    "import numpy as np\n",
    "from tqdm import tqdm\n",
    "import matplotlib.pyplot as plt\n",
    "import seaborn as sns\n",
    "\n",
    "from sklearn.metrics import f1_score, precision_score, recall_score, classification_report, mean_squared_error, mean_absolute_error\n",
    "from transformers import (\n",
    "    T5Tokenizer, T5ForConditionalGeneration,\n",
    "    BartTokenizer, BartForConditionalGeneration,\n",
    "    DataCollatorForSeq2Seq, TrainingArguments, Trainer\n",
    ")\n",
    "import os\n",
    "import torch\n",
    "from datasets import Dataset\n",
    "from difflib import SequenceMatcher"
   ],
   "id": "7f5fcf0639765728",
   "outputs": [],
   "execution_count": 19
  },
  {
   "metadata": {},
   "cell_type": "markdown",
   "source": "## Wczytanie danych (wersja oryginalna i plik testowy)",
   "id": "72aedb6623b88e5e"
  },
  {
   "metadata": {
    "ExecuteTime": {
     "end_time": "2025-06-12T21:11:09.948285Z",
     "start_time": "2025-06-12T21:11:08.334942Z"
    }
   },
   "cell_type": "code",
   "source": [
    "# Ścieżki do plików\n",
    "ORIGINAL_PATH = \"../Datasets/BooksDatasetSubset/BooksDataset_subset.csv\"\n",
    "TEST_PATH = \"../Datasets/BooksDatasetOCR/BooksDataset_OCR_v10.csv\"\n",
    "\n",
    "original = pd.read_csv(ORIGINAL_PATH)\n",
    "test = pd.read_csv(TEST_PATH)\n",
    "\n",
    "# Sprawdzenie, czy oba pliki są zgodne\n",
    "assert len(original) == len(test)\n",
    "display(original.head(2))\n",
    "display(test.head(2))\n"
   ],
   "id": "739f2d0ac66a5528",
   "outputs": [
    {
     "data": {
      "text/plain": [
       "                title             authors            category  \\\n",
       "0       Goat Brothers    By Colton, Larry   History , General   \n",
       "1  The Missing Person  By Grumbach, Doris   Fiction , General   \n",
       "\n",
       "          publisher description publish_month  publish_year  \n",
       "0         Doubleday         NaN       January          1993  \n",
       "1  Putnam Pub Group         NaN         March          1981  "
      ],
      "text/html": [
       "<div>\n",
       "<style scoped>\n",
       "    .dataframe tbody tr th:only-of-type {\n",
       "        vertical-align: middle;\n",
       "    }\n",
       "\n",
       "    .dataframe tbody tr th {\n",
       "        vertical-align: top;\n",
       "    }\n",
       "\n",
       "    .dataframe thead th {\n",
       "        text-align: right;\n",
       "    }\n",
       "</style>\n",
       "<table border=\"1\" class=\"dataframe\">\n",
       "  <thead>\n",
       "    <tr style=\"text-align: right;\">\n",
       "      <th></th>\n",
       "      <th>title</th>\n",
       "      <th>authors</th>\n",
       "      <th>category</th>\n",
       "      <th>publisher</th>\n",
       "      <th>description</th>\n",
       "      <th>publish_month</th>\n",
       "      <th>publish_year</th>\n",
       "    </tr>\n",
       "  </thead>\n",
       "  <tbody>\n",
       "    <tr>\n",
       "      <th>0</th>\n",
       "      <td>Goat Brothers</td>\n",
       "      <td>By Colton, Larry</td>\n",
       "      <td>History , General</td>\n",
       "      <td>Doubleday</td>\n",
       "      <td>NaN</td>\n",
       "      <td>January</td>\n",
       "      <td>1993</td>\n",
       "    </tr>\n",
       "    <tr>\n",
       "      <th>1</th>\n",
       "      <td>The Missing Person</td>\n",
       "      <td>By Grumbach, Doris</td>\n",
       "      <td>Fiction , General</td>\n",
       "      <td>Putnam Pub Group</td>\n",
       "      <td>NaN</td>\n",
       "      <td>March</td>\n",
       "      <td>1981</td>\n",
       "    </tr>\n",
       "  </tbody>\n",
       "</table>\n",
       "</div>"
      ]
     },
     "metadata": {},
     "output_type": "display_data"
    },
    {
     "data": {
      "text/plain": [
       "                title             authors            category  \\\n",
       "0       Goat Bro𝒽ters    By Colotn, Larry   History , 𝐆eneral   \n",
       "1  The 𝜧issing Person  By Gr𝘶mbach, Doris   Fiction , G𝗲neral   \n",
       "\n",
       "          publisher description publish_month  publish_year  \n",
       "0         Doub1eday         NaN       January          1993  \n",
       "1  Putnam Pub Group         NaN         March          1981  "
      ],
      "text/html": [
       "<div>\n",
       "<style scoped>\n",
       "    .dataframe tbody tr th:only-of-type {\n",
       "        vertical-align: middle;\n",
       "    }\n",
       "\n",
       "    .dataframe tbody tr th {\n",
       "        vertical-align: top;\n",
       "    }\n",
       "\n",
       "    .dataframe thead th {\n",
       "        text-align: right;\n",
       "    }\n",
       "</style>\n",
       "<table border=\"1\" class=\"dataframe\">\n",
       "  <thead>\n",
       "    <tr style=\"text-align: right;\">\n",
       "      <th></th>\n",
       "      <th>title</th>\n",
       "      <th>authors</th>\n",
       "      <th>category</th>\n",
       "      <th>publisher</th>\n",
       "      <th>description</th>\n",
       "      <th>publish_month</th>\n",
       "      <th>publish_year</th>\n",
       "    </tr>\n",
       "  </thead>\n",
       "  <tbody>\n",
       "    <tr>\n",
       "      <th>0</th>\n",
       "      <td>Goat Bro𝒽ters</td>\n",
       "      <td>By Colotn, Larry</td>\n",
       "      <td>History , 𝐆eneral</td>\n",
       "      <td>Doub1eday</td>\n",
       "      <td>NaN</td>\n",
       "      <td>January</td>\n",
       "      <td>1993</td>\n",
       "    </tr>\n",
       "    <tr>\n",
       "      <th>1</th>\n",
       "      <td>The 𝜧issing Person</td>\n",
       "      <td>By Gr𝘶mbach, Doris</td>\n",
       "      <td>Fiction , G𝗲neral</td>\n",
       "      <td>Putnam Pub Group</td>\n",
       "      <td>NaN</td>\n",
       "      <td>March</td>\n",
       "      <td>1981</td>\n",
       "    </tr>\n",
       "  </tbody>\n",
       "</table>\n",
       "</div>"
      ]
     },
     "metadata": {},
     "output_type": "display_data"
    }
   ],
   "execution_count": 20
  },
  {
   "metadata": {},
   "cell_type": "markdown",
   "source": "## Lista kolumn do uczenia i oceny + funkcje pomocnicze",
   "id": "d3a8f81ebd5c1fb9"
  },
  {
   "metadata": {
    "ExecuteTime": {
     "end_time": "2025-06-12T21:11:11.780281Z",
     "start_time": "2025-06-12T21:11:11.776899Z"
    }
   },
   "cell_type": "code",
   "source": [
    "columns_to_train = [\n",
    "    'title',\n",
    "    'authors',\n",
    "    'category',\n",
    "    'publisher',\n",
    "    # 'description',\n",
    "    # 'publish_month',\n",
    "    # 'publish_year'\n",
    "]\n"
   ],
   "id": "42ca33cdca43e039",
   "outputs": [],
   "execution_count": 21
  },
  {
   "metadata": {
    "ExecuteTime": {
     "end_time": "2025-06-12T21:11:12.934570Z",
     "start_time": "2025-06-12T21:11:12.930979Z"
    }
   },
   "cell_type": "code",
   "source": [
    "def safe_text_column(series):\n",
    "    \"\"\"Zamienia NaN, None, np.nan, itp. na pusty string i castuje na str\"\"\"\n",
    "    return series.fillna(\"\").astype(str)\n"
   ],
   "id": "153f3d8b8eaacb42",
   "outputs": [],
   "execution_count": 22
  },
  {
   "metadata": {},
   "cell_type": "markdown",
   "source": "## Ładowanie domyślnych modeli i tokenizatorów",
   "id": "a4f67f1d03f4cfe2"
  },
  {
   "metadata": {
    "ExecuteTime": {
     "end_time": "2025-06-12T21:11:31.796190Z",
     "start_time": "2025-06-12T21:11:19.967976Z"
    }
   },
   "cell_type": "code",
   "source": [
    "# T5\n",
    "t5_tokenizer = T5Tokenizer.from_pretrained(\"t5-small\")\n",
    "t5_model = T5ForConditionalGeneration.from_pretrained(\"t5-small\")\n",
    "\n",
    "# BART\n",
    "bart_tokenizer = BartTokenizer.from_pretrained(\"facebook/bart-base\")\n",
    "bart_model = BartForConditionalGeneration.from_pretrained(\"facebook/bart-base\")\n"
   ],
   "id": "f44bbe5a4233888",
   "outputs": [],
   "execution_count": 23
  },
  {
   "metadata": {},
   "cell_type": "markdown",
   "source": "## Funkcja do naprawy tekstu przez model",
   "id": "9bc60cfd08554c41"
  },
  {
   "metadata": {
    "ExecuteTime": {
     "end_time": "2025-06-12T20:35:48.312088Z",
     "start_time": "2025-06-12T20:35:48.306986Z"
    }
   },
   "cell_type": "code",
   "source": [
    "def correct_ocr_t5(texts, max_length=256):\n",
    "    clean_texts = [x if x else \"\" for x in texts]\n",
    "    inputs = t5_tokenizer(\n",
    "        clean_texts,\n",
    "        return_tensors=\"pt\",\n",
    "        padding=True,\n",
    "        truncation=True,\n",
    "        max_length=max_length\n",
    "    ).to(t5_model.device)\n",
    "    with torch.no_grad():\n",
    "        outputs = t5_model.generate(**inputs, max_length=max_length)\n",
    "    return [t5_tokenizer.decode(o, skip_special_tokens=True) for o in outputs]\n",
    "\n",
    "def correct_ocr_bart(texts, max_length=256):\n",
    "    clean_texts = [x if x else \"\" for x in texts]\n",
    "    inputs = bart_tokenizer(\n",
    "        clean_texts,\n",
    "        return_tensors=\"pt\",\n",
    "        padding=True,\n",
    "        truncation=True,\n",
    "        max_length=max_length\n",
    "    ).to(bart_model.device)\n",
    "    with torch.no_grad():\n",
    "        outputs = bart_model.generate(**inputs, max_length=max_length)\n",
    "    return [bart_tokenizer.decode(o, skip_special_tokens=True) for o in outputs]\n"
   ],
   "id": "3994e0372aba838e",
   "outputs": [],
   "execution_count": 6
  },
  {
   "metadata": {},
   "cell_type": "markdown",
   "source": "## Test domyślnych modeli na testowym OCR",
   "id": "e7420895b558e2a9"
  },
  {
   "metadata": {
    "ExecuteTime": {
     "end_time": "2025-06-12T13:42:27.670722Z",
     "start_time": "2025-06-12T13:41:45.386768Z"
    }
   },
   "cell_type": "code",
   "source": [
    "N = 50  # przykładowy rozmiar do szybkiej ewaluacji\n",
    "\n",
    "for col in columns_to_train:\n",
    "    print(f\"=== Kolumna: {col} ===\")\n",
    "    # Wybierz tylko te wiersze, gdzie OCR ≠ oryginał\n",
    "    mask = (test[col].fillna(\"\").astype(str) != original[col].fillna(\"\").astype(str))\n",
    "    noisy_all = test[col].fillna(\"\").astype(str)[mask]\n",
    "    clean_all = original[col].fillna(\"\").astype(str)[mask]\n",
    "\n",
    "    if len(noisy_all) == 0:\n",
    "        print(\"Brak błędów OCR w tej kolumnie, pomijam.\")\n",
    "        continue\n",
    "\n",
    "    noisy = noisy_all[:N].tolist()\n",
    "    clean = clean_all[:N].tolist()\n",
    "\n",
    "    print(\"Naprawiamy OCR (T5)...\")\n",
    "    t5_fixed = correct_ocr_t5(noisy)\n",
    "    print(\"Naprawiamy OCR (BART)...\")\n",
    "    bart_fixed = correct_ocr_bart(noisy)\n",
    "\n",
    "    acc_t5 = np.mean([a == b for a, b in zip(t5_fixed, clean)])\n",
    "    acc_bart = np.mean([a == b for a, b in zip(bart_fixed, clean)])\n",
    "    print(f\"T5 accuracy:   {acc_t5:.3f}\")\n",
    "    print(f\"BART accuracy: {acc_bart:.3f}\")\n",
    "\n",
    "    def sim(a, b): return SequenceMatcher(None, a, b).ratio()\n",
    "    sim_t5 = [sim(a, b) for a, b in zip(t5_fixed, clean)]\n",
    "    sim_bart = [sim(a, b) for a, b in zip(bart_fixed, clean)]\n",
    "\n",
    "    plt.figure(figsize=(7,2.5))\n",
    "    sns.histplot(sim_t5, color='blue', label='T5', kde=True, stat='density')\n",
    "    sns.histplot(sim_bart, color='orange', label='BART', kde=True, stat='density')\n",
    "    plt.title(f\"Podobieństwo {col}: domyślne modele\")\n",
    "    plt.xlabel(\"Similarity (0–1)\"); plt.legend(); plt.show()\n",
    "\n",
    "    for i in range(min(3, len(noisy))):\n",
    "        print(\"BŁĄD:   \", noisy[i])\n",
    "        print(\"T5:     \", t5_fixed[i])\n",
    "        print(\"BART:   \", bart_fixed[i])\n",
    "        print(\"ORYG:   \", clean[i])\n",
    "        print(\"-\"*40)\n"
   ],
   "id": "ea4ed51e1c4e862e",
   "outputs": [
    {
     "name": "stdout",
     "output_type": "stream",
     "text": [
      "=== Kolumna: title ===\n",
      "Naprawiamy OCR (T5)...\n",
      "Naprawiamy OCR (BART)...\n",
      "T5 accuracy:   0.040\n",
      "BART accuracy: 0.000\n"
     ]
    },
    {
     "data": {
      "text/plain": [
       "<Figure size 700x250 with 1 Axes>"
      ],
      "image/png": "[encoded data removed]"
     },
     "metadata": {},
     "output_type": "display_data"
    },
    {
     "name": "stdout",
     "output_type": "stream",
     "text": [
      "BŁĄD:    Goat Bro𝒽ters\n",
      "T5:      Goat Brohters\n",
      "BART:    Goat Bro𝒽ters\n",
      "ORYG:    Goat Brothers\n",
      "----------------------------------------\n",
      "BŁĄD:    The 𝜧issing Person\n",
      "T5:      Die issing Person ist die issing Person.\n",
      "BART:    The 𝜧issing Person\n",
      "ORYG:    The Missing Person\n",
      "----------------------------------------\n",
      "BŁĄD:    When Your Corportac Umbrella Begins to Leak: Ａ Handbook for White Coll𝜶r ReE-rnployment\n",
      "T5:      When Your Corportac Umbrella Begins to Leak: A Handbook for White Collr ReE-rnployment\n",
      "BART:    When Your Corportac Umbrella Begins to Leak: Ａ Handbook for White Coll𝜶r ReE-rnployment\n",
      "ORYG:    When Your Corporate Umbrella Begins to Leak: A Handbook for White Collar Re-Employment\n",
      "----------------------------------------\n",
      "=== Kolumna: authors ===\n",
      "Naprawiamy OCR (T5)...\n",
      "Naprawiamy OCR (BART)...\n",
      "T5 accuracy:   0.140\n",
      "BART accuracy: 0.000\n"
     ]
    },
    {
     "data": {
      "text/plain": [
       "<Figure size 700x250 with 1 Axes>"
      ],
      "image/png": "[encoded data removed]"
     },
     "metadata": {},
     "output_type": "display_data"
    },
    {
     "name": "stdout",
     "output_type": "stream",
     "text": [
      "BŁĄD:    By Colotn, Larry\n",
      "T5:      By Colotn, Larry\n",
      "BART:    By Colotn, Larry\n",
      "ORYG:    By Colton, Larry\n",
      "----------------------------------------\n",
      "BŁĄD:    By Gr𝘶mbach, Doris\n",
      "T5:      By Grumbach, Doris\n",
      "BART:    By Gr𝘶mbach, Doris\n",
      "ORYG:    By Grumbach, Doris\n",
      "----------------------------------------\n",
      "BŁĄD:    By Davis, Pau𝘭 D𝅭\n",
      "T5:      By Davis, Paul D\n",
      "BART:    By Davis, Pau𝘭 D𝅭\n",
      "ORYG:    By Davis, Paul D.\n",
      "----------------------------------------\n",
      "=== Kolumna: category ===\n",
      "Naprawiamy OCR (T5)...\n",
      "Naprawiamy OCR (BART)...\n",
      "T5 accuracy:   0.000\n",
      "BART accuracy: 0.000\n"
     ]
    },
    {
     "data": {
      "text/plain": [
       "<Figure size 700x250 with 1 Axes>"
      ],
      "image/png": "[encoded data removed]"
     },
     "metadata": {},
     "output_type": "display_data"
    },
    {
     "name": "stdout",
     "output_type": "stream",
     "text": [
      "BŁĄD:     History , 𝐆eneral\n",
      "T5:      Hishishis\n",
      "BART:    History , 𝐆eneral\n",
      "ORYG:     History , General\n",
      "----------------------------------------\n",
      "BŁĄD:     Fiction , G𝗲neral\n",
      "T5:      Fiction, General\n",
      "BART:     Fiction , G𝗲neral\n",
      "ORYG:     Fiction , General\n",
      "----------------------------------------\n",
      "BŁĄD:     Self-he1p , Personal Growth , Self-Esteem\n",
      "T5:      Self-he1p, Personal Growth, Self-Esteem\n",
      "BART:     Self-he1p , Personal Growth , Self-Esteem\n",
      "ORYG:     Self-help , Personal Growth , Self-Esteem\n",
      "----------------------------------------\n",
      "=== Kolumna: publisher ===\n",
      "Naprawiamy OCR (T5)...\n",
      "Naprawiamy OCR (BART)...\n",
      "T5 accuracy:   0.360\n",
      "BART accuracy: 0.000\n"
     ]
    },
    {
     "data": {
      "text/plain": [
       "<Figure size 700x250 with 1 Axes>"
      ],
      "image/png": "[encoded data removed]"
     },
     "metadata": {},
     "output_type": "display_data"
    },
    {
     "name": "stdout",
     "output_type": "stream",
     "text": [
      "BŁĄD:    Doub1eday\n",
      "T5:      Doub1eday\n",
      "BART:    Doub1\n",
      "ORYG:    Doubleday\n",
      "----------------------------------------\n",
      "BŁĄD:    Natl Ppr Boᴏks\n",
      "T5:      Natl Ppr Boks\n",
      "BART:    Natl Ppr Boᴏks\n",
      "ORYG:    Natl Pr Books\n",
      "----------------------------------------\n",
      "BŁĄD:    Amy Spa𝑛gler\n",
      "T5:      Amy Spangler\n",
      "BART:    Amy Spa𝑛gler\n",
      "ORYG:    Amy Spangler\n",
      "----------------------------------------\n"
     ]
    }
   ],
   "execution_count": 7
  },
  {
   "metadata": {},
   "cell_type": "markdown",
   "source": " ## Przygotowanie własnych danych treningowych",
   "id": "6146131523900cb5"
  },
  {
   "metadata": {
    "ExecuteTime": {
     "end_time": "2025-06-12T20:35:56.797339Z",
     "start_time": "2025-06-12T20:35:54.360588Z"
    }
   },
   "cell_type": "code",
   "source": [
    "# Przygotuj katalog na tokenizowane dane\n",
    "train_data_dir = \"../Datasets/BooksDatasetTraining\"\n",
    "os.makedirs(train_data_dir, exist_ok=True)\n",
    "\n",
    "# Przygotuj pliki\n",
    "num_files = 2\n",
    "\n",
    "# Przygotuj pliki OCR (v1-v9) i oryginalny\n",
    "ocr_paths = [f\"../Datasets/BooksDatasetOCR/BooksDataset_OCR_v{i}.csv\" for i in range(1, num_files + 1)]\n",
    "ocr_dfs = [pd.read_csv(p) for p in ocr_paths]\n",
    "train_ocr = pd.concat(ocr_dfs, ignore_index=True)\n",
    "train_clean = pd.concat([original] * num_files, ignore_index=True)\n",
    "\n",
    "\n",
    "# Przygotuj pary do wszystkich wskazanych kolumn\n",
    "train_dfs = []\n",
    "for col in columns_to_train:\n",
    "    tmp = pd.DataFrame({\n",
    "        'input_text': safe_text_column(train_ocr[col]),\n",
    "        'target_text': safe_text_column(train_clean[col]),\n",
    "        'col': col\n",
    "    })\n",
    "    train_dfs.append(tmp)\n",
    "train_df = pd.concat(train_dfs, ignore_index=True)\n",
    "\n",
    "train_parquet_path = os.path.join(train_data_dir, \"train_pairs.parquet\")\n",
    "train_df.to_parquet(train_parquet_path, index=False)\n",
    "print(f\"Dane treningowe zapisane do {train_parquet_path}\")\n"
   ],
   "id": "7b7d6376908c440",
   "outputs": [
    {
     "name": "stdout",
     "output_type": "stream",
     "text": [
      "✔ Dane treningowe zapisane do ../Datasets/BooksDatasetTraining\\train_pairs.parquet\n"
     ]
    }
   ],
   "execution_count": 7
  },
  {
   "metadata": {},
   "cell_type": "markdown",
   "source": "## (Opcjonalnie) Wczytanie danych z pliku do dalszego przetwarzania",
   "id": "c01eacfbab3c70ba"
  },
  {
   "metadata": {
    "ExecuteTime": {
     "end_time": "2025-06-12T21:15:06.540685Z",
     "start_time": "2025-06-12T21:15:06.096765Z"
    }
   },
   "cell_type": "code",
   "source": "train_df = pd.read_parquet(train_parquet_path)\n",
   "id": "7a0a1bdb4ec4fbc0",
   "outputs": [],
   "execution_count": 24
  },
  {
   "metadata": {
    "ExecuteTime": {
     "end_time": "2025-06-12T20:54:30.367497Z",
     "start_time": "2025-06-12T20:54:30.302173Z"
    }
   },
   "cell_type": "code",
   "source": "print((train_df['input_text'] == train_df['target_text']).mean())\n",
   "id": "3035f253a2f37461",
   "outputs": [
    {
     "name": "stdout",
     "output_type": "stream",
     "text": [
      "0.3741134063630983\n"
     ]
    }
   ],
   "execution_count": 12
  },
  {
   "metadata": {},
   "cell_type": "markdown",
   "source": "## Tokenizacja i przygotowanie datasetu Huggingface",
   "id": "375930b89e18a903"
  },
  {
   "metadata": {
    "ExecuteTime": {
     "end_time": "2025-06-12T21:16:52.852794Z",
     "start_time": "2025-06-12T21:15:13.516202Z"
    }
   },
   "cell_type": "code",
   "source": [
    "dataset = Dataset.from_pandas(train_df)\n",
    "\n",
    "def preprocess_t5(batch):\n",
    "    input_str = [f\"{col}: {inp}\" for col, inp in zip(batch['col'], batch['input_text'])]\n",
    "    target_str = batch['target_text']\n",
    "    model_max_length = 64\n",
    "\n",
    "    inputs = t5_tokenizer(\n",
    "        input_str,\n",
    "        padding='max_length',\n",
    "        truncation=True,\n",
    "        max_length=model_max_length\n",
    "    )\n",
    "    targets = t5_tokenizer(\n",
    "        target_str,\n",
    "        padding='max_length',\n",
    "        truncation=True,\n",
    "        max_length=model_max_length\n",
    "    )\n",
    "    inputs['labels'] = targets['input_ids']\n",
    "    return inputs\n",
    "\n",
    "tokenized = dataset.map(preprocess_t5, batched=True, batch_size=100)\n",
    "data_collator = DataCollatorForSeq2Seq(t5_tokenizer, model=t5_model)\n"
   ],
   "id": "16ffca394adf63d7",
   "outputs": [
    {
     "data": {
      "text/plain": [
       "Map:   0%|          | 0/824504 [00:00<?, ? examples/s]"
      ],
      "application/vnd.jupyter.widget-view+json": {
       "version_major": 2,
       "version_minor": 0,
       "model_id": "81d4caf9bde24c99bf07057a1b46659e"
      }
     },
     "metadata": {},
     "output_type": "display_data"
    }
   ],
   "execution_count": 25
  },
  {
   "metadata": {},
   "cell_type": "markdown",
   "source": "## Fine-tuning T5",
   "id": "96ede38bf23a62f6"
  },
  {
   "metadata": {
    "ExecuteTime": {
     "end_time": "2025-06-12T21:59:46.200249Z",
     "start_time": "2025-06-12T21:18:14.028002Z"
    }
   },
   "cell_type": "code",
   "source": [
    "training_args = TrainingArguments(\n",
    "    output_dir='../results_t5_v2',\n",
    "    num_train_epochs=1,\n",
    "    per_device_train_batch_size=128,\n",
    "    save_steps=200,\n",
    "    save_total_limit=1,\n",
    "    fp16=torch.cuda.is_available(),\n",
    "    report_to=\"none\"\n",
    ")\n",
    "\n",
    "trainer = Trainer(\n",
    "    model=t5_model,\n",
    "    args=training_args,\n",
    "    train_dataset=tokenized,\n",
    "    data_collator=data_collator,\n",
    ")\n",
    "trainer.train()"
   ],
   "id": "3498c3f794d2c4a8",
   "outputs": [
    {
     "data": {
      "text/plain": [
       "<IPython.core.display.HTML object>"
      ],
      "text/html": [
       "\n",
       "    <div>\n",
       "      \n",
       "      <progress value='6442' max='6442' style='width:300px; height:20px; vertical-align: middle;'></progress>\n",
       "      [6442/6442 41:31, Epoch 1/1]\n",
       "    </div>\n",
       "    <table border=\"1\" class=\"dataframe\">\n",
       "  <thead>\n",
       " <tr style=\"text-align: left;\">\n",
       "      <th>Step</th>\n",
       "      <th>Training Loss</th>\n",
       "    </tr>\n",
       "  </thead>\n",
       "  <tbody>\n",
       "    <tr>\n",
       "      <td>500</td>\n",
       "      <td>0.089800</td>\n",
       "    </tr>\n",
       "    <tr>\n",
       "      <td>1000</td>\n",
       "      <td>0.074000</td>\n",
       "    </tr>\n",
       "    <tr>\n",
       "      <td>1500</td>\n",
       "      <td>0.068100</td>\n",
       "    </tr>\n",
       "    <tr>\n",
       "      <td>2000</td>\n",
       "      <td>0.064800</td>\n",
       "    </tr>\n",
       "    <tr>\n",
       "      <td>2500</td>\n",
       "      <td>0.061800</td>\n",
       "    </tr>\n",
       "    <tr>\n",
       "      <td>3000</td>\n",
       "      <td>0.059200</td>\n",
       "    </tr>\n",
       "    <tr>\n",
       "      <td>3500</td>\n",
       "      <td>0.058300</td>\n",
       "    </tr>\n",
       "    <tr>\n",
       "      <td>4000</td>\n",
       "      <td>0.056900</td>\n",
       "    </tr>\n",
       "    <tr>\n",
       "      <td>4500</td>\n",
       "      <td>0.056000</td>\n",
       "    </tr>\n",
       "    <tr>\n",
       "      <td>5000</td>\n",
       "      <td>0.055700</td>\n",
       "    </tr>\n",
       "    <tr>\n",
       "      <td>5500</td>\n",
       "      <td>0.055100</td>\n",
       "    </tr>\n",
       "    <tr>\n",
       "      <td>6000</td>\n",
       "      <td>0.054200</td>\n",
       "    </tr>\n",
       "  </tbody>\n",
       "</table><p>"
      ]
     },
     "metadata": {},
     "output_type": "display_data"
    },
    {
     "data": {
      "text/plain": [
       "TrainOutput(global_step=6442, training_loss=0.06223128531076123, metrics={'train_runtime': 2491.933, 'train_samples_per_second': 330.869, 'train_steps_per_second': 2.585, 'total_flos': 1.3948732085108736e+16, 'train_loss': 0.06223128531076123, 'epoch': 1.0})"
      ]
     },
     "execution_count": 27,
     "metadata": {},
     "output_type": "execute_result"
    }
   ],
   "execution_count": 27
  },
  {
   "metadata": {},
   "cell_type": "markdown",
   "source": "",
   "id": "5d71ab8693d92462"
  },
  {
   "metadata": {},
   "cell_type": "markdown",
   "source": "## Tokenizacja i trening BART na GPU",
   "id": "503de6ceff6c6e27"
  },
  {
   "metadata": {
    "ExecuteTime": {
     "end_time": "2025-06-12T17:44:43.059498Z",
     "start_time": "2025-06-12T15:27:01.615491Z"
    }
   },
   "cell_type": "code",
   "source": [
    "def preprocess_bart(batch):\n",
    "    input_str = [f\"{col}: {inp}\" for col, inp in zip(batch['col'], batch['input_text'])]\n",
    "    target_str = batch['target_text']\n",
    "    model_max_length = 64\n",
    "\n",
    "    inputs = bart_tokenizer(\n",
    "        input_str,\n",
    "        padding='max_length',\n",
    "        truncation=True,\n",
    "        max_length=model_max_length\n",
    "    )\n",
    "    targets = bart_tokenizer(\n",
    "        target_str,\n",
    "        padding='max_length',\n",
    "        truncation=True,\n",
    "        max_length=model_max_length\n",
    "    )\n",
    "    inputs['labels'] = targets['input_ids']\n",
    "    return inputs\n",
    "\n",
    "tokenized_bart = dataset.map(preprocess_bart, batched=True, batch_size=100)\n",
    "data_collator_bart = DataCollatorForSeq2Seq(bart_tokenizer, model=bart_model)\n",
    "\n",
    "training_args_bart = TrainingArguments(\n",
    "    output_dir='../results_bart',\n",
    "    num_train_epochs=1,\n",
    "    per_device_train_batch_size=128,\n",
    "    save_steps=200,\n",
    "    save_total_limit=1,\n",
    "    fp16=torch.cuda.is_available(),\n",
    "    report_to=\"none\"\n",
    ")\n",
    "\n",
    "trainer_bart = Trainer(\n",
    "    model=bart_model,\n",
    "    args=training_args_bart,\n",
    "    train_dataset=tokenized_bart,\n",
    "    data_collator=data_collator_bart,\n",
    ")\n",
    "trainer_bart.train()\n"
   ],
   "id": "7eed8eb3038c1a45",
   "outputs": [
    {
     "data": {
      "text/plain": [
       "Map:   0%|          | 0/824504 [00:00<?, ? examples/s]"
      ],
      "application/vnd.jupyter.widget-view+json": {
       "version_major": 2,
       "version_minor": 0,
       "model_id": "c1be023c545a4c1caed246ffadaa0fda"
      }
     },
     "metadata": {},
     "output_type": "display_data"
    },
    {
     "data": {
      "text/plain": [
       "<IPython.core.display.HTML object>"
      ],
      "text/html": [
       "\n",
       "    <div>\n",
       "      \n",
       "      <progress value='6442' max='6442' style='width:300px; height:20px; vertical-align: middle;'></progress>\n",
       "      [6442/6442 2:14:50, Epoch 1/1]\n",
       "    </div>\n",
       "    <table border=\"1\" class=\"dataframe\">\n",
       "  <thead>\n",
       " <tr style=\"text-align: left;\">\n",
       "      <th>Step</th>\n",
       "      <th>Training Loss</th>\n",
       "    </tr>\n",
       "  </thead>\n",
       "  <tbody>\n",
       "    <tr>\n",
       "      <td>500</td>\n",
       "      <td>0.754800</td>\n",
       "    </tr>\n",
       "    <tr>\n",
       "      <td>1000</td>\n",
       "      <td>0.054600</td>\n",
       "    </tr>\n",
       "    <tr>\n",
       "      <td>1500</td>\n",
       "      <td>0.045800</td>\n",
       "    </tr>\n",
       "    <tr>\n",
       "      <td>2000</td>\n",
       "      <td>0.041300</td>\n",
       "    </tr>\n",
       "    <tr>\n",
       "      <td>2500</td>\n",
       "      <td>0.037900</td>\n",
       "    </tr>\n",
       "    <tr>\n",
       "      <td>3000</td>\n",
       "      <td>0.034900</td>\n",
       "    </tr>\n",
       "    <tr>\n",
       "      <td>3500</td>\n",
       "      <td>0.033000</td>\n",
       "    </tr>\n",
       "    <tr>\n",
       "      <td>4000</td>\n",
       "      <td>0.030900</td>\n",
       "    </tr>\n",
       "    <tr>\n",
       "      <td>4500</td>\n",
       "      <td>0.029300</td>\n",
       "    </tr>\n",
       "    <tr>\n",
       "      <td>5000</td>\n",
       "      <td>0.028800</td>\n",
       "    </tr>\n",
       "    <tr>\n",
       "      <td>5500</td>\n",
       "      <td>0.028100</td>\n",
       "    </tr>\n",
       "    <tr>\n",
       "      <td>6000</td>\n",
       "      <td>0.026600</td>\n",
       "    </tr>\n",
       "  </tbody>\n",
       "</table><p>"
      ]
     },
     "metadata": {},
     "output_type": "display_data"
    },
    {
     "name": "stderr",
     "output_type": "stream",
     "text": [
      "D:\\miniconda3\\envs\\Data_Completion\\Lib\\site-packages\\transformers\\modeling_utils.py:3339: UserWarning: Moving the following attributes in the config to the generation config: {'early_stopping': True, 'num_beams': 4, 'no_repeat_ngram_size': 3, 'forced_bos_token_id': 0}. You are seeing this warning because you've set generation parameters in the model config, as opposed to in the generation config.\n",
      "  warnings.warn(\n"
     ]
    },
    {
     "data": {
      "text/plain": [
       "TrainOutput(global_step=6442, training_loss=0.09075027088021981, metrics={'train_runtime': 8091.8155, 'train_samples_per_second': 101.894, 'train_steps_per_second': 0.796, 'total_flos': 3.142063429779456e+16, 'train_loss': 0.09075027088021981, 'epoch': 1.0})"
      ]
     },
     "execution_count": 21,
     "metadata": {},
     "output_type": "execute_result"
    }
   ],
   "execution_count": 21
  },
  {
   "metadata": {},
   "cell_type": "markdown",
   "source": "## Test na zbiorze testowym po fine-tuningu",
   "id": "9c58f8a2f92c2421"
  },
  {
   "metadata": {},
   "cell_type": "markdown",
   "source": "**Załadowaie modeli + ustawienia**",
   "id": "12d018ff82532012"
  },
  {
   "metadata": {
    "ExecuteTime": {
     "end_time": "2025-06-12T22:12:58.145722Z",
     "start_time": "2025-06-12T22:12:55.475114Z"
    }
   },
   "cell_type": "code",
   "source": [
    "# Ścieżki do plików i checkpointów\n",
    "ORIGINAL_PATH = \"../Datasets/BooksDatasetSubset/BooksDataset_subset.csv\"\n",
    "TEST_PATH = \"../Datasets/BooksDatasetOCR/BooksDataset_OCR_v10.csv\"\n",
    "T5_CHECKPOINT = '../results_t5_v2/checkpoint-6442'\n",
    "BART_CHECKPOINT = '../results_bart/checkpoint-6442'\n",
    "results_dir = \"../test_results_v2\"\n",
    "os.makedirs(results_dir, exist_ok=True)\n",
    "\n",
    "# Kolumny do testowania\n",
    "columns_to_train = ['title', 'authors', 'category', 'publisher']\n",
    "\n",
    "# Wczytaj dane\n",
    "original = pd.read_csv(ORIGINAL_PATH)\n",
    "test = pd.read_csv(TEST_PATH)\n",
    "assert len(original) == len(test)\n",
    "\n",
    "# Załaduj modele i tokenizer\n",
    "device = \"cuda\" if torch.cuda.is_available() else \"cpu\"\n",
    "t5_tokenizer = T5Tokenizer.from_pretrained(T5_CHECKPOINT)\n",
    "t5_model = T5ForConditionalGeneration.from_pretrained(T5_CHECKPOINT).to(device)\n",
    "bart_tokenizer = BartTokenizer.from_pretrained(BART_CHECKPOINT)\n",
    "bart_model = BartForConditionalGeneration.from_pretrained(BART_CHECKPOINT).to(device)\n",
    "\n",
    "def correct_ocr_t5_batched(texts, max_length=256, batch_size=64):\n",
    "    results = []\n",
    "    for i in range(0, len(texts), batch_size):\n",
    "        batch = texts[i:i+batch_size]\n",
    "        inputs = t5_tokenizer(batch, return_tensors=\"pt\", padding=True, truncation=True, max_length=max_length).to(device)\n",
    "        with torch.no_grad():\n",
    "            outputs = t5_model.generate(**inputs, max_length=max_length)\n",
    "        results.extend([t5_tokenizer.decode(o, skip_special_tokens=True) for o in outputs])\n",
    "    return results\n",
    "\n",
    "def correct_ocr_bart_batched(texts, max_length=256, batch_size=64):\n",
    "    results = []\n",
    "    for i in range(0, len(texts), batch_size):\n",
    "        batch = texts[i:i+batch_size]\n",
    "        inputs = bart_tokenizer(batch, return_tensors=\"pt\", padding=True, truncation=True, max_length=max_length).to(device)\n",
    "        with torch.no_grad():\n",
    "            outputs = bart_model.generate(**inputs, max_length=max_length)\n",
    "        results.extend([bart_tokenizer.decode(o, skip_special_tokens=True) for o in outputs])\n",
    "    return results\n"
   ],
   "id": "ddd6b3860f90ff56",
   "outputs": [],
   "execution_count": 28
  },
  {
   "metadata": {
    "ExecuteTime": {
     "end_time": "2025-06-12T22:20:26.535228Z",
     "start_time": "2025-06-12T22:13:26.828882Z"
    }
   },
   "cell_type": "code",
   "source": [
    "all_results_t5 = []\n",
    "all_results_bart = []\n",
    "\n",
    "N = 500\n",
    "\n",
    "for col in columns_to_train:\n",
    "    print(f\"\\n=== Kolumna: {col} ===\")\n",
    "    mask = (test[col].fillna(\"\").astype(str) != original[col].fillna(\"\").astype(str))\n",
    "    noisy_all = test[col].fillna(\"\").astype(str)[mask]\n",
    "    clean_all = original[col].fillna(\"\").astype(str)[mask]\n",
    "    index_all = test.index[mask]\n",
    "\n",
    "    if len(noisy_all) == 0:\n",
    "        print(\"Brak błędów OCR w tej kolumnie, pomijam.\")\n",
    "        continue\n",
    "\n",
    "    # Tnij do N\n",
    "    noisy = noisy_all[:N].tolist()\n",
    "    clean = clean_all[:N].tolist()\n",
    "    index_list = index_all[:N].tolist()\n",
    "    noisy_prefixed = [f\"{col}: {x}\" for x in noisy]\n",
    "\n",
    "    print(f\"Liczba rekordów do testowania w '{col}': {len(noisy)}\")\n",
    "\n",
    "    # Przewidujemy T5\n",
    "    print(\"Naprawiamy OCR (T5)...\")\n",
    "    t5_fixed = correct_ocr_t5_batched(noisy_prefixed, batch_size=128)\n",
    "    sim_t5 = [SequenceMatcher(None, a, b).ratio() for a, b in zip(t5_fixed, clean)]\n",
    "    match_t5 = [int(a == b) for a, b in zip(t5_fixed, clean)]\n",
    "\n",
    "    # Przewidujemy BART\n",
    "    print(\"Naprawiamy OCR (BART)...\")\n",
    "    bart_fixed = correct_ocr_bart_batched(noisy_prefixed, batch_size=128)\n",
    "    sim_bart = [SequenceMatcher(None, a, b).ratio() for a, b in zip(bart_fixed, clean)]\n",
    "    match_bart = [int(a == b) for a, b in zip(bart_fixed, clean)]\n",
    "\n",
    "    # Tworzenie dataframe dla każdej kolumny, jeden wiersz = jeden rekord\n",
    "    result_df_t5 = pd.DataFrame({\n",
    "        \"index\": index_list,\n",
    "        \"column\": col,\n",
    "        \"ocr_noisy\": noisy,\n",
    "        \"original\": clean,\n",
    "        \"t5_fixed\": t5_fixed,\n",
    "        \"t5_exact_match\": match_t5,\n",
    "        \"t5_similarity\": sim_t5\n",
    "    })\n",
    "    result_df_bart = pd.DataFrame({\n",
    "        \"index\": index_list,\n",
    "        \"column\": col,\n",
    "        \"ocr_noisy\": noisy,\n",
    "        \"original\": clean,\n",
    "        \"bart_fixed\": bart_fixed,\n",
    "        \"bart_exact_match\": match_bart,\n",
    "        \"bart_similarity\": sim_bart\n",
    "    })\n",
    "\n",
    "    # Zapisujemy wyniki per kolumna\n",
    "    result_df_t5.to_csv(os.path.join(results_dir, f\"t5_results_{col}.csv\"), index=False)\n",
    "    result_df_bart.to_csv(os.path.join(results_dir, f\"bart_results_{col}.csv\"), index=False)\n",
    "    print(f\"[T5]: zapisano {len(result_df_t5)} rekordów | [BART]: zapisano {len(result_df_bart)} rekordów\")\n",
    "\n",
    "    # Zbieraj do listy globalnej\n",
    "    all_results_t5.append(result_df_t5)\n",
    "    all_results_bart.append(result_df_bart)\n"
   ],
   "id": "7bcf8ff8201c0bf2",
   "outputs": [
    {
     "name": "stdout",
     "output_type": "stream",
     "text": [
      "\n",
      "=== Kolumna: title ===\n",
      "Liczba rekordów do testowania w 'title': 500\n",
      "Naprawiamy OCR (T5)...\n",
      "Naprawiamy OCR (BART)...\n",
      "[T5]: zapisano 500 rekordów | [BART]: zapisano 500 rekordów\n",
      "\n",
      "=== Kolumna: authors ===\n",
      "Liczba rekordów do testowania w 'authors': 500\n",
      "Naprawiamy OCR (T5)...\n",
      "Naprawiamy OCR (BART)...\n",
      "[T5]: zapisano 500 rekordów | [BART]: zapisano 500 rekordów\n",
      "\n",
      "=== Kolumna: category ===\n",
      "Liczba rekordów do testowania w 'category': 500\n",
      "Naprawiamy OCR (T5)...\n",
      "Naprawiamy OCR (BART)...\n",
      "[T5]: zapisano 500 rekordów | [BART]: zapisano 500 rekordów\n",
      "\n",
      "=== Kolumna: publisher ===\n",
      "Liczba rekordów do testowania w 'publisher': 500\n",
      "Naprawiamy OCR (T5)...\n",
      "Naprawiamy OCR (BART)...\n",
      "[T5]: zapisano 500 rekordów | [BART]: zapisano 500 rekordów\n"
     ]
    }
   ],
   "execution_count": 29
  },
  {
   "metadata": {
    "ExecuteTime": {
     "end_time": "2025-06-12T22:28:21.421956Z",
     "start_time": "2025-06-12T22:28:20.810003Z"
    }
   },
   "cell_type": "code",
   "source": [
    "for col, df_t5, df_bart in zip(columns_to_train, all_results_t5, all_results_bart):\n",
    "    print(f\"\\n=== Statystyki dla kolumny: {col} ===\")\n",
    "    # Accuracy\n",
    "    acc_t5 = np.mean(df_t5[\"t5_exact_match\"])\n",
    "    acc_bart = np.mean(df_bart[\"bart_exact_match\"])\n",
    "    print(f\"T5 accuracy:   {acc_t5:.3f}\")\n",
    "    print(f\"BART accuracy: {acc_bart:.3f}\")\n",
    "\n",
    "    # F1, precision, recall\n",
    "    f1_t5 = f1_score(df_t5[\"t5_exact_match\"], [1]*len(df_t5), zero_division=0)\n",
    "    f1_bart = f1_score(df_bart[\"bart_exact_match\"], [1]*len(df_bart), zero_division=0)\n",
    "    prec_t5 = precision_score(df_t5[\"t5_exact_match\"], [1]*len(df_t5), zero_division=0)\n",
    "    prec_bart = precision_score(df_bart[\"bart_exact_match\"], [1]*len(df_bart), zero_division=0)\n",
    "    rec_t5 = recall_score(df_t5[\"t5_exact_match\"], [1]*len(df_t5), zero_division=0)\n",
    "    rec_bart = recall_score(df_bart[\"bart_exact_match\"], [1]*len(df_bart), zero_division=0)\n",
    "    print(f\"T5:   F1={f1_t5:.3f} | Precision={prec_t5:.3f} | Recall={rec_t5:.3f}\")\n",
    "    print(f\"BART: F1={f1_bart:.3f} | Precision={prec_bart:.3f} | Recall={rec_bart:.3f}\")\n",
    "\n",
    "    # Classification report (opcjonalnie)\n",
    "    print(\"T5 - classification report:\\n\", classification_report([1]*len(df_t5), df_t5[\"t5_exact_match\"], zero_division=0))\n",
    "    print(\"BART - classification report:\\n\", classification_report([1]*len(df_bart), df_bart[\"bart_exact_match\"], zero_division=0))\n",
    "\n",
    "    # Mean Squared Error i Mean Absolute Error na similarity\n",
    "    mse_t5 = mean_squared_error([1]*len(df_t5), df_t5[\"t5_similarity\"])\n",
    "    mae_t5 = mean_absolute_error([1]*len(df_t5), df_t5[\"t5_similarity\"])\n",
    "    mse_bart = mean_squared_error([1]*len(df_bart), df_bart[\"bart_similarity\"])\n",
    "    mae_bart = mean_absolute_error([1]*len(df_bart), df_bart[\"bart_similarity\"])\n",
    "    print(f\"T5   - MSE: {mse_t5:.4f}, MAE: {mae_t5:.4f}\")\n",
    "    print(f\"BART - MSE: {mse_bart:.4f}, MAE: {mae_bart:.4f}\")\n",
    "\n",
    "    # Histogram podobieństwa\n",
    "    plt.figure(figsize=(8,3))\n",
    "    sns.histplot(df_t5[\"t5_similarity\"], color='green', label='T5', kde=True, stat='density')\n",
    "    sns.histplot(df_bart[\"bart_similarity\"], color='purple', label='BART', kde=True, stat='density')\n",
    "    plt.title(f\"Histogram podobieństwa ({col})\")\n",
    "    plt.xlabel(\"Similarity (0–1)\")\n",
    "    plt.legend()\n",
    "    plt.show()\n"
   ],
   "id": "a0185483279a104",
   "outputs": [
    {
     "name": "stdout",
     "output_type": "stream",
     "text": [
      "\n",
      "=== Statystyki dla kolumny: title ===\n",
      "T5 accuracy:   0.274\n",
      "BART accuracy: 0.530\n",
      "T5:   F1=0.430 | Precision=0.274 | Recall=1.000\n",
      "BART: F1=0.693 | Precision=0.530 | Recall=1.000\n",
      "T5 - classification report:\n",
      "               precision    recall  f1-score   support\n",
      "\n",
      "           0       0.00      0.00      0.00         0\n",
      "           1       1.00      0.27      0.43       500\n",
      "\n",
      "    accuracy                           0.27       500\n",
      "   macro avg       0.50      0.14      0.22       500\n",
      "weighted avg       1.00      0.27      0.43       500\n",
      "\n",
      "BART - classification report:\n",
      "               precision    recall  f1-score   support\n",
      "\n",
      "           0       0.00      0.00      0.00         0\n",
      "           1       1.00      0.53      0.69       500\n",
      "\n",
      "    accuracy                           0.53       500\n",
      "   macro avg       0.50      0.27      0.35       500\n",
      "weighted avg       1.00      0.53      0.69       500\n",
      "\n",
      "T5   - MSE: 0.0096, MAE: 0.0597\n",
      "BART - MSE: 0.0045, MAE: 0.0332\n"
     ]
    },
    {
     "data": {
      "text/plain": [
       "<Figure size 800x300 with 1 Axes>"
      ],
      "image/png": "[encoded data removed]"
     },
     "metadata": {},
     "output_type": "display_data"
    },
    {
     "name": "stdout",
     "output_type": "stream",
     "text": [
      "\n",
      "=== Statystyki dla kolumny: authors ===\n",
      "T5 accuracy:   0.432\n",
      "BART accuracy: 0.500\n",
      "T5:   F1=0.603 | Precision=0.432 | Recall=1.000\n",
      "BART: F1=0.667 | Precision=0.500 | Recall=1.000\n",
      "T5 - classification report:\n",
      "               precision    recall  f1-score   support\n",
      "\n",
      "           0       0.00      0.00      0.00         0\n",
      "           1       1.00      0.43      0.60       500\n",
      "\n",
      "    accuracy                           0.43       500\n",
      "   macro avg       0.50      0.22      0.30       500\n",
      "weighted avg       1.00      0.43      0.60       500\n",
      "\n",
      "BART - classification report:\n",
      "               precision    recall  f1-score   support\n",
      "\n",
      "           0       0.00      0.00      0.00         0\n",
      "           1       1.00      0.50      0.67       500\n",
      "\n",
      "    accuracy                           0.50       500\n",
      "   macro avg       0.50      0.25      0.33       500\n",
      "weighted avg       1.00      0.50      0.67       500\n",
      "\n",
      "T5   - MSE: 0.0045, MAE: 0.0396\n",
      "BART - MSE: 0.0036, MAE: 0.0324\n"
     ]
    },
    {
     "data": {
      "text/plain": [
       "<Figure size 800x300 with 1 Axes>"
      ],
      "image/png": "[encoded data removed]"
     },
     "metadata": {},
     "output_type": "display_data"
    },
    {
     "name": "stdout",
     "output_type": "stream",
     "text": [
      "\n",
      "=== Statystyki dla kolumny: category ===\n",
      "T5 accuracy:   0.000\n",
      "BART accuracy: 0.976\n",
      "T5:   F1=0.000 | Precision=0.000 | Recall=0.000\n",
      "BART: F1=0.988 | Precision=0.976 | Recall=1.000\n",
      "T5 - classification report:\n",
      "               precision    recall  f1-score   support\n",
      "\n",
      "           0       0.00      0.00      0.00       0.0\n",
      "           1       0.00      0.00      0.00     500.0\n",
      "\n",
      "    accuracy                           0.00     500.0\n",
      "   macro avg       0.00      0.00      0.00     500.0\n",
      "weighted avg       0.00      0.00      0.00     500.0\n",
      "\n",
      "BART - classification report:\n",
      "               precision    recall  f1-score   support\n",
      "\n",
      "           0       0.00      0.00      0.00         0\n",
      "           1       1.00      0.98      0.99       500\n",
      "\n",
      "    accuracy                           0.98       500\n",
      "   macro avg       0.50      0.49      0.49       500\n",
      "weighted avg       1.00      0.98      0.99       500\n",
      "\n",
      "T5   - MSE: 0.0067, MAE: 0.0603\n",
      "BART - MSE: 0.0004, MAE: 0.0027\n"
     ]
    },
    {
     "data": {
      "text/plain": [
       "<Figure size 800x300 with 1 Axes>"
      ],
      "image/png": "[encoded data removed]"
     },
     "metadata": {},
     "output_type": "display_data"
    },
    {
     "name": "stdout",
     "output_type": "stream",
     "text": [
      "\n",
      "=== Statystyki dla kolumny: publisher ===\n",
      "T5 accuracy:   0.626\n",
      "BART accuracy: 0.896\n",
      "T5:   F1=0.770 | Precision=0.626 | Recall=1.000\n",
      "BART: F1=0.945 | Precision=0.896 | Recall=1.000\n",
      "T5 - classification report:\n",
      "               precision    recall  f1-score   support\n",
      "\n",
      "           0       0.00      0.00      0.00         0\n",
      "           1       1.00      0.63      0.77       500\n",
      "\n",
      "    accuracy                           0.63       500\n",
      "   macro avg       0.50      0.31      0.38       500\n",
      "weighted avg       1.00      0.63      0.77       500\n",
      "\n",
      "BART - classification report:\n",
      "               precision    recall  f1-score   support\n",
      "\n",
      "           0       0.00      0.00      0.00         0\n",
      "           1       1.00      0.90      0.95       500\n",
      "\n",
      "    accuracy                           0.90       500\n",
      "   macro avg       0.50      0.45      0.47       500\n",
      "weighted avg       1.00      0.90      0.95       500\n",
      "\n",
      "T5   - MSE: 0.0120, MAE: 0.0510\n",
      "BART - MSE: 0.0061, MAE: 0.0199\n"
     ]
    },
    {
     "data": {
      "text/plain": [
       "<Figure size 800x300 with 1 Axes>"
      ],
      "image/png": "[encoded data removed]"
     },
     "metadata": {},
     "output_type": "display_data"
    }
   ],
   "execution_count": 32
  },
  {
   "metadata": {},
   "cell_type": "markdown",
   "source": "**Łączenie wyników do plików — T5 i BART**",
   "id": "4e80b0359f065ce6"
  },
  {
   "metadata": {
    "ExecuteTime": {
     "end_time": "2025-06-12T22:28:47.843956Z",
     "start_time": "2025-06-12T22:28:47.562414Z"
    }
   },
   "cell_type": "code",
   "source": [
    "t5_full = pd.DataFrame(index=test.index)\n",
    "bart_full = pd.DataFrame(index=test.index)\n",
    "ref_full = pd.DataFrame(index=test.index)\n",
    "\n",
    "for col in columns_to_train:\n",
    "    df_t5_col = pd.read_csv(os.path.join(results_dir, f\"t5_results_{col}.csv\"))\n",
    "    df_bart_col = pd.read_csv(os.path.join(results_dir, f\"bart_results_{col}.csv\"))\n",
    "    t5_full.loc[df_t5_col[\"index\"], col] = df_t5_col[\"t5_fixed\"]\n",
    "    bart_full.loc[df_bart_col[\"index\"], col] = df_bart_col[\"bart_fixed\"]\n",
    "    ref_full[col] = original[col]\n",
    "\n",
    "t5_full = t5_full[columns_to_train]\n",
    "bart_full = bart_full[columns_to_train]\n",
    "ref_full = ref_full[columns_to_train]\n",
    "\n",
    "t5_full.to_csv(os.path.join(results_dir, \"books_corrected_t5.csv\"), index=False)\n",
    "bart_full.to_csv(os.path.join(results_dir, \"books_corrected_bart.csv\"), index=False)\n",
    "ref_full.to_csv(os.path.join(results_dir, \"books_reference.csv\"), index=False)\n",
    "\n",
    "print(f\"[ZAPISANO] books_corrected_t5.csv  ({len(t5_full)})\")\n",
    "print(f\"[ZAPISANO] books_corrected_bart.csv ({len(bart_full)})\")\n",
    "print(f\"[ZAPISANO] books_reference.csv      ({len(ref_full)})\")\n"
   ],
   "id": "efa12d4d6a18f618",
   "outputs": [
    {
     "name": "stdout",
     "output_type": "stream",
     "text": [
      "[ZAPISANO] books_corrected_t5.csv  (103063)\n",
      "[ZAPISANO] books_corrected_bart.csv (103063)\n",
      "[ZAPISANO] books_reference.csv      (103063)\n"
     ]
    }
   ],
   "execution_count": 33
  },
  {
   "metadata": {},
   "cell_type": "markdown",
   "source": [
    "## Wyniki\n",
    "**Ogólna interpretacja**\n",
    "- Model BART konsekwentnie wypada lepiej niż T5 na każdym typie pola\n",
    "- Szczególnie duża różnica jest widoczna tam, gdzie liczba możliwych wartości jest ograniczona, np. w kategoriach.\n",
    "- Nawet w bardziej otwartych polach, jak tytuł czy wydawca, BART skuteczniej rekonstruuje tekst.\n",
    "- Wykresy (histogramy) podobieństwa pokazują nie tylko trafienia 1:1, ale też ile predykcji było „prawie poprawnych”.\n",
    "\n",
    "**Co oznaczają te wyniki w praktyce?**\n",
    "- Po wytrenowaniu na syntetycznych błędach OCR, model BART świetnie nadaje się do automatycznej korekty dużych zbiorów tekstowych.\n",
    "- W typowych zastosowaniach, takich jak cyfrowe biblioteki czy archiwa, możemy liczyć na niemal perfekcyjną naprawę typowych pól, zwłaszcza tam, gdzie wartości się powtarzają. Co daje nadzieje, że gdyby udało się uzyskać dostatecznie duży i rzeczywysty dataset to bylibyśmy w stanie uzyskać niemal 100% dokładność\n",
    "- Model T5, choć też potrafi poprawiać dane, wypada wyraźnie gorzej i może być traktowany raczej jako punkt odniesienia.\n",
    "\n",
    "**Podsumowanie**\n",
    "- Fine-tuning dużych modeli językowych pozwala osiągnąć bardzo dobre rezultaty w naprawianiu tekstów z błędami OCR.\n",
    "- Najlepsze efekty uzyskujemy dla modelu BART, szczególnie w zadaniach typowych dla baz danych książek.\n",
    "- Takie rozwiązanie może mieć realne zastosowanie praktyczne — oszczędza czas i eliminuje potrzebę ręcznej korekty.\n"
   ],
   "id": "a45e4b80074fb475"
  }
 ],
 "metadata": {
  "kernelspec": {
   "display_name": "Python 3",
   "language": "python",
   "name": "python3"
  },
  "language_info": {
   "codemirror_mode": {
    "name": "ipython",
    "version": 2
   },
   "file_extension": ".py",
   "mimetype": "text/x-python",
   "name": "python",
   "nbconvert_exporter": "python",
   "pygments_lexer": "ipython2",
   "version": "2.7.6"
  }
 },
 "nbformat": 4,
 "nbformat_minor": 5
}
