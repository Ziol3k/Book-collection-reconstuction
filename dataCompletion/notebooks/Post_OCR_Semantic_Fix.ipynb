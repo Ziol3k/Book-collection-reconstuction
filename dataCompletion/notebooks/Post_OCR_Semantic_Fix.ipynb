{
 "cells": [
  {
   "metadata": {},
   "cell_type": "markdown",
   "source": [
    "# Poprawianie danych książkowych przy użyciu lokalnego RDF (Wikidata)\n",
    "\n",
    "W tym notebooku:\n",
    "1. Pobierzemy przykładowe dane książkowe z Wikidata jako RDF.\n",
    "2. Zamienimy je na plik Turtle (.ttl).\n",
    "3. Załadujemy własne dane po OCR (np. naprawione przez T5/BART).\n",
    "4. Poprawimy dane, korzystając z RDF i fuzzy-matching.\n"
   ],
   "id": "a065c5d8f0a6f27d"
  },
  {
   "metadata": {},
   "cell_type": "markdown",
   "source": "## Pobieranie przykładowych danych z Wikidata (SPARQL)",
   "id": "30fea3086e0c4b9a"
  },
  {
   "metadata": {
    "ExecuteTime": {
     "end_time": "2025-06-12T20:10:10.365145Z",
     "start_time": "2025-06-12T20:10:10.332946Z"
    }
   },
   "cell_type": "code",
   "source": [
    "import requests\n",
    "import pandas as pd\n",
    "from rdflib import Graph\n",
    "from collections import defaultdict\n",
    "from rapidfuzz import process, fuzz\n",
    "import matplotlib.pyplot as plt\n",
    "import seaborn as sns\n",
    "from difflib import SequenceMatcher"
   ],
   "id": "ed289197f658d96e",
   "outputs": [],
   "execution_count": 3
  },
  {
   "metadata": {
    "ExecuteTime": {
     "end_time": "2025-06-12T20:11:17.282111Z",
     "start_time": "2025-06-12T20:10:12.018385Z"
    }
   },
   "cell_type": "code",
   "source": [
    "LANGS = [\"pl\", \"en\", \"de\", \"fr\", \"es\", \"it\", \"cs\", \"ru\", \"hu\"]\n",
    "\n",
    "label_select = \" \".join([f'?title_{lang}' for lang in LANGS])\n",
    "label_opt = \"\\n\".join([f'OPTIONAL {{ ?book rdfs:label ?title_{lang} . FILTER(LANG(?title_{lang})=\"{lang}\") }}' for lang in LANGS])\n",
    "author_opt = \"\\n\".join([f'OPTIONAL {{ ?author rdfs:label ?authorLabel_{lang} . FILTER(LANG(?authorLabel_{lang})=\"{lang}\") }}' for lang in LANGS])\n",
    "publisher_opt = \"\\n\".join([f'OPTIONAL {{ ?publisher rdfs:label ?publisherLabel_{lang} . FILTER(LANG(?publisherLabel_{lang})=\"{lang}\") }}' for lang in LANGS])\n",
    "genre_opt = \"\\n\".join([f'OPTIONAL {{ ?genre rdfs:label ?genreLabel_{lang} . FILTER(LANG(?genreLabel_{lang})=\"{lang}\") }}' for lang in LANGS])\n",
    "\n",
    "SPARQL = f\"\"\"\n",
    "SELECT DISTINCT ?book {label_select} ?author {\" \".join([f\"?authorLabel_{lang}\" for lang in LANGS])} ?publisher {\" \".join([f\"?publisherLabel_{lang}\" for lang in LANGS])} ?genre {\" \".join([f\"?genreLabel_{lang}\" for lang in LANGS])} WHERE {{\n",
    "  ?book wdt:P31 wd:Q571 .\n",
    "  {label_opt}\n",
    "  OPTIONAL {{ ?book wdt:P50 ?author . }}\n",
    "  {author_opt}\n",
    "  OPTIONAL {{ ?book wdt:P123 ?publisher . }}\n",
    "  {publisher_opt}\n",
    "  OPTIONAL {{ ?book wdt:P136 ?genre . }}\n",
    "  {genre_opt}\n",
    "}}\n",
    "LIMIT 300\n",
    "\"\"\"\n",
    "\n",
    "url = \"https://query.wikidata.org/sparql\"\n",
    "r = requests.get(url, params={\"query\": SPARQL, \"format\": \"csv\"})\n",
    "with open(\"wikidata_books_multilang.csv\", \"w\", encoding=\"utf-8\") as f:\n",
    "    f.write(r.text)\n",
    "print(\"Zapisano wikidata_books_multilang.csv\")"
   ],
   "id": "8ee1dcb7eef8d528",
   "outputs": [
    {
     "name": "stdout",
     "output_type": "stream",
     "text": [
      "Zapisano wikidata_books_multilang.csv\n"
     ]
    }
   ],
   "execution_count": 4
  },
  {
   "metadata": {},
   "cell_type": "markdown",
   "source": "## CSV → RDF",
   "id": "7f2347d26a00d78e"
  },
  {
   "metadata": {
    "ExecuteTime": {
     "end_time": "2025-06-12T20:11:36.809525Z",
     "start_time": "2025-06-12T20:11:36.799390Z"
    }
   },
   "cell_type": "code",
   "source": [
    "df = pd.read_csv(\"wikidata_books_multilang.csv\")\n",
    "\n",
    "def safe_literal(val):\n",
    "    return str(val).replace('\"', '\\\\\"').replace('\\\\', '\\\\\\\\') if pd.notna(val) else None\n",
    "\n",
    "with open(\"books_wikidata_multilang.ttl\", \"w\", encoding=\"utf-8\") as f:\n",
    "    f.write('@prefix schema: <http://schema.org/> .\\n')\n",
    "    for idx, row in df.iterrows():\n",
    "        uri = f\"<{row['book']}>\"\n",
    "        f.write(f\"{uri} a schema:Book ;\\n\")\n",
    "        for lang in LANGS:\n",
    "            if not pd.isna(row.get(f\"title_{lang}\", None)):\n",
    "                f.write(f'  schema:name \"{safe_literal(row[f\"title_{lang}\"])}\"@{lang} ;\\n')\n",
    "        for lang in LANGS:\n",
    "            if not pd.isna(row.get(f\"authorLabel_{lang}\", None)):\n",
    "                f.write(f'  schema:author \"{safe_literal(row[f\"authorLabel_{lang}\"])}\"@{lang} ;\\n')\n",
    "        for lang in LANGS:\n",
    "            if not pd.isna(row.get(f\"publisherLabel_{lang}\", None)):\n",
    "                f.write(f'  schema:publisher \"{safe_literal(row[f\"publisherLabel_{lang}\"])}\"@{lang} ;\\n')\n",
    "        for lang in LANGS:\n",
    "            if not pd.isna(row.get(f\"genreLabel_{lang}\", None)):\n",
    "                f.write(f'  schema:genre \"{safe_literal(row[f\"genreLabel_{lang}\"])}\"@{lang} ;\\n')\n",
    "        f.write('.\\n\\n')\n",
    "print(\"Zapisano books_wikidata_multilang.ttl\")"
   ],
   "id": "42b70af78e9fa9aa",
   "outputs": [
    {
     "name": "stdout",
     "output_type": "stream",
     "text": [
      "Zapisano books_wikidata_multilang.ttl\n"
     ]
    }
   ],
   "execution_count": 5
  },
  {
   "metadata": {},
   "cell_type": "markdown",
   "source": "## Ładowanie danych po T5/BART/OCR",
   "id": "47d88409c12edf03"
  },
  {
   "metadata": {
    "ExecuteTime": {
     "end_time": "2025-06-12T20:27:11.032936Z",
     "start_time": "2025-06-12T20:27:11.009212Z"
    }
   },
   "cell_type": "code",
   "source": [
    "path = \"../test_results/books_corrected_bart.csv\"\n",
    "data = pd.read_csv(path)\n",
    "display(data.head(3))"
   ],
   "id": "f8ad494d8986061a",
   "outputs": [
    {
     "data": {
      "text/plain": [
       "                title             authors            category  publisher\n",
       "0       Goat Brothers    By Colton, Larry   History , General  Doubleday\n",
       "1  The Missing Person  By Garmbach, Doris   Fiction , General        NaN\n",
       "2                 NaN                 NaN                 NaN        NaN"
      ],
      "text/html": [
       "<div>\n",
       "<style scoped>\n",
       "    .dataframe tbody tr th:only-of-type {\n",
       "        vertical-align: middle;\n",
       "    }\n",
       "\n",
       "    .dataframe tbody tr th {\n",
       "        vertical-align: top;\n",
       "    }\n",
       "\n",
       "    .dataframe thead th {\n",
       "        text-align: right;\n",
       "    }\n",
       "</style>\n",
       "<table border=\"1\" class=\"dataframe\">\n",
       "  <thead>\n",
       "    <tr style=\"text-align: right;\">\n",
       "      <th></th>\n",
       "      <th>title</th>\n",
       "      <th>authors</th>\n",
       "      <th>category</th>\n",
       "      <th>publisher</th>\n",
       "    </tr>\n",
       "  </thead>\n",
       "  <tbody>\n",
       "    <tr>\n",
       "      <th>0</th>\n",
       "      <td>Goat Brothers</td>\n",
       "      <td>By Colton, Larry</td>\n",
       "      <td>History , General</td>\n",
       "      <td>Doubleday</td>\n",
       "    </tr>\n",
       "    <tr>\n",
       "      <th>1</th>\n",
       "      <td>The Missing Person</td>\n",
       "      <td>By Garmbach, Doris</td>\n",
       "      <td>Fiction , General</td>\n",
       "      <td>NaN</td>\n",
       "    </tr>\n",
       "    <tr>\n",
       "      <th>2</th>\n",
       "      <td>NaN</td>\n",
       "      <td>NaN</td>\n",
       "      <td>NaN</td>\n",
       "      <td>NaN</td>\n",
       "    </tr>\n",
       "  </tbody>\n",
       "</table>\n",
       "</div>"
      ]
     },
     "metadata": {},
     "output_type": "display_data"
    }
   ],
   "execution_count": 6
  },
  {
   "metadata": {},
   "cell_type": "markdown",
   "source": "## Parsowanie RDF",
   "id": "4ec004b21617a16a"
  },
  {
   "metadata": {
    "ExecuteTime": {
     "end_time": "2025-06-12T20:32:18.938563Z",
     "start_time": "2025-06-12T20:32:18.892787Z"
    }
   },
   "cell_type": "code",
   "source": [
    "rdf_path = \"books_wikidata_multilang.ttl\"\n",
    "g = Graph()\n",
    "g.parse(rdf_path, format=\"ttl\")\n",
    "\n",
    "# Zbuduj: lang → lista (tytuł, autor, wydawca, gatunek)\n",
    "kb = defaultdict(list)\n",
    "for s in g.subjects(predicate=None, object=None):\n",
    "    book_info = {\"uri\": s}\n",
    "    for lang in LANGS:\n",
    "        titles = list(g.objects(s, g.namespace_manager.expand(\"schema:name\")))\n",
    "        titles = [str(t) for t in titles if str(t).endswith(f'@{lang}')]\n",
    "        if titles:\n",
    "            book_info[\"title\"] = titles[0][:-len(f'@{lang}')]\n",
    "\n",
    "            authors = [str(a) for a in g.objects(s, g.namespace_manager.expand(\"schema:author\")) if str(a).endswith(f'@{lang}')]\n",
    "            publishers = [str(a) for a in g.objects(s, g.namespace_manager.expand(\"schema:publisher\")) if str(a).endswith(f'@{lang}')]\n",
    "            genres = [str(a) for a in g.objects(s, g.namespace_manager.expand(\"schema:genre\")) if str(a).endswith(f'@{lang}')]\n",
    "            book_info[\"author\"] = authors[0][:-len(f'@{lang}')] if authors else None\n",
    "            book_info[\"publisher\"] = publishers[0][:-len(f'@{lang}')] if publishers else None\n",
    "            book_info[\"genre\"] = genres[0][:-len(f'@{lang}')] if genres else None\n",
    "            kb[lang].append(book_info.copy())\n",
    "\n",
    "print(\"Rekordy w bazie wiedzy (przykład PL):\", len(kb[\"pl\"]))\n",
    "print(kb[\"pl\"][0])\n"
   ],
   "id": "d9c31e46875a82a3",
   "outputs": [
    {
     "name": "stdout",
     "output_type": "stream",
     "text": [
      "Rekordy w bazie wiedzy (przykład PL): 0\n"
     ]
    },
    {
     "ename": "IndexError",
     "evalue": "list index out of range",
     "output_type": "error",
     "traceback": [
      "\u001B[31m---------------------------------------------------------------------------\u001B[39m",
      "\u001B[31mIndexError\u001B[39m                                Traceback (most recent call last)",
      "\u001B[36mCell\u001B[39m\u001B[36m \u001B[39m\u001B[32mIn[7]\u001B[39m\u001B[32m, line 24\u001B[39m\n\u001B[32m     21\u001B[39m             kb[lang].append(book_info.copy())\n\u001B[32m     23\u001B[39m \u001B[38;5;28mprint\u001B[39m(\u001B[33m\"\u001B[39m\u001B[33mRekordy w bazie wiedzy (przykład PL):\u001B[39m\u001B[33m\"\u001B[39m, \u001B[38;5;28mlen\u001B[39m(kb[\u001B[33m\"\u001B[39m\u001B[33mpl\u001B[39m\u001B[33m\"\u001B[39m]))\n\u001B[32m---> \u001B[39m\u001B[32m24\u001B[39m \u001B[38;5;28mprint\u001B[39m(\u001B[43mkb\u001B[49m\u001B[43m[\u001B[49m\u001B[33;43m\"\u001B[39;49m\u001B[33;43mpl\u001B[39;49m\u001B[33;43m\"\u001B[39;49m\u001B[43m]\u001B[49m\u001B[43m[\u001B[49m\u001B[32;43m0\u001B[39;49m\u001B[43m]\u001B[49m)\n",
      "\u001B[31mIndexError\u001B[39m: list index out of range"
     ]
    }
   ],
   "execution_count": 7
  },
  {
   "metadata": {},
   "cell_type": "markdown",
   "source": "## Dopasowanie fuzzy",
   "id": "80c32547fbddd8f0"
  },
  {
   "metadata": {
    "ExecuteTime": {
     "end_time": "2025-06-12T20:33:33.749522Z",
     "start_time": "2025-06-12T20:32:28.421202Z"
    }
   },
   "cell_type": "code",
   "source": [
    "def correct_with_kb_multilang(row, kb, langs=LANGS, score_cutoff=90):\n",
    "    title = row[\"title\"]\n",
    "    results = []\n",
    "    for lang in langs:\n",
    "        kb_titles = [b[\"title\"] for b in kb[lang] if b[\"title\"]]\n",
    "        if not kb_titles: continue\n",
    "        match, score, idx = process.extractOne(title, kb_titles, scorer=fuzz.token_sort_ratio)\n",
    "        if score >= score_cutoff:\n",
    "            rec = kb[lang][idx]\n",
    "            rec = rec.copy()\n",
    "            rec[\"kb_lang\"] = lang\n",
    "            rec[\"kb_score\"] = score\n",
    "            results.append(rec)\n",
    "    if results:\n",
    "        # wybierz najlepsze dopasowanie\n",
    "        best = max(results, key=lambda x: x[\"kb_score\"])\n",
    "        row[\"title_corrected\"] = best[\"title\"]\n",
    "        row[\"authors_corrected\"] = best.get(\"author\", row.get(\"authors\"))\n",
    "        row[\"publisher_corrected\"] = best.get(\"publisher\", row.get(\"publisher\"))\n",
    "        row[\"category_corrected\"] = best.get(\"genre\", row.get(\"category\"))\n",
    "        row[\"kb_lang\"] = best[\"kb_lang\"]\n",
    "        row[\"kb_score\"] = best[\"kb_score\"]\n",
    "    else:\n",
    "        row[\"title_corrected\"] = row[\"title\"]\n",
    "        row[\"authors_corrected\"] = row.get(\"authors\")\n",
    "        row[\"publisher_corrected\"] = row.get(\"publisher\")\n",
    "        row[\"category_corrected\"] = row.get(\"category\")\n",
    "        row[\"kb_lang\"] = None\n",
    "        row[\"kb_score\"] = 0\n",
    "    return row\n",
    "\n",
    "data_fixed = data.apply(lambda row: correct_with_kb_multilang(row, kb), axis=1)\n",
    "display(data_fixed.head(5))"
   ],
   "id": "452412658d89ceb0",
   "outputs": [
    {
     "ename": "KeyboardInterrupt",
     "evalue": "",
     "output_type": "error",
     "traceback": [
      "\u001B[31m---------------------------------------------------------------------------\u001B[39m",
      "\u001B[31mKeyError\u001B[39m                                  Traceback (most recent call last)",
      "\u001B[36mFile \u001B[39m\u001B[32mD:\\miniconda3\\envs\\Data_Completion\\Lib\\site-packages\\pandas\\core\\indexes\\base.py:3805\u001B[39m, in \u001B[36mIndex.get_loc\u001B[39m\u001B[34m(self, key)\u001B[39m\n\u001B[32m   3804\u001B[39m \u001B[38;5;28;01mtry\u001B[39;00m:\n\u001B[32m-> \u001B[39m\u001B[32m3805\u001B[39m     \u001B[38;5;28;01mreturn\u001B[39;00m \u001B[38;5;28;43mself\u001B[39;49m\u001B[43m.\u001B[49m\u001B[43m_engine\u001B[49m\u001B[43m.\u001B[49m\u001B[43mget_loc\u001B[49m\u001B[43m(\u001B[49m\u001B[43mcasted_key\u001B[49m\u001B[43m)\u001B[49m\n\u001B[32m   3806\u001B[39m \u001B[38;5;28;01mexcept\u001B[39;00m \u001B[38;5;167;01mKeyError\u001B[39;00m \u001B[38;5;28;01mas\u001B[39;00m err:\n",
      "\u001B[36mFile \u001B[39m\u001B[32mindex.pyx:167\u001B[39m, in \u001B[36mpandas._libs.index.IndexEngine.get_loc\u001B[39m\u001B[34m()\u001B[39m\n",
      "\u001B[36mFile \u001B[39m\u001B[32mindex.pyx:196\u001B[39m, in \u001B[36mpandas._libs.index.IndexEngine.get_loc\u001B[39m\u001B[34m()\u001B[39m\n",
      "\u001B[36mFile \u001B[39m\u001B[32mpandas\\\\_libs\\\\hashtable_class_helper.pxi:7081\u001B[39m, in \u001B[36mpandas._libs.hashtable.PyObjectHashTable.get_item\u001B[39m\u001B[34m()\u001B[39m\n",
      "\u001B[36mFile \u001B[39m\u001B[32mpandas\\\\_libs\\\\hashtable_class_helper.pxi:7089\u001B[39m, in \u001B[36mpandas._libs.hashtable.PyObjectHashTable.get_item\u001B[39m\u001B[34m()\u001B[39m\n",
      "\u001B[31mKeyError\u001B[39m: 'kb_lang'",
      "\nThe above exception was the direct cause of the following exception:\n",
      "\u001B[31mKeyError\u001B[39m                                  Traceback (most recent call last)",
      "\u001B[36mFile \u001B[39m\u001B[32mD:\\miniconda3\\envs\\Data_Completion\\Lib\\site-packages\\pandas\\core\\series.py:1298\u001B[39m, in \u001B[36mSeries.__setitem__\u001B[39m\u001B[34m(self, key, value)\u001B[39m\n\u001B[32m   1297\u001B[39m \u001B[38;5;28;01mtry\u001B[39;00m:\n\u001B[32m-> \u001B[39m\u001B[32m1298\u001B[39m     \u001B[38;5;28;43mself\u001B[39;49m\u001B[43m.\u001B[49m\u001B[43m_set_with_engine\u001B[49m\u001B[43m(\u001B[49m\u001B[43mkey\u001B[49m\u001B[43m,\u001B[49m\u001B[43m \u001B[49m\u001B[43mvalue\u001B[49m\u001B[43m,\u001B[49m\u001B[43m \u001B[49m\u001B[43mwarn\u001B[49m\u001B[43m=\u001B[49m\u001B[43mwarn\u001B[49m\u001B[43m)\u001B[49m\n\u001B[32m   1299\u001B[39m \u001B[38;5;28;01mexcept\u001B[39;00m \u001B[38;5;167;01mKeyError\u001B[39;00m:\n\u001B[32m   1300\u001B[39m     \u001B[38;5;66;03m# We have a scalar (or for MultiIndex or object-dtype, scalar-like)\u001B[39;00m\n\u001B[32m   1301\u001B[39m     \u001B[38;5;66;03m#  key that is not present in self.index.\u001B[39;00m\n",
      "\u001B[36mFile \u001B[39m\u001B[32mD:\\miniconda3\\envs\\Data_Completion\\Lib\\site-packages\\pandas\\core\\series.py:1370\u001B[39m, in \u001B[36mSeries._set_with_engine\u001B[39m\u001B[34m(self, key, value, warn)\u001B[39m\n\u001B[32m   1369\u001B[39m \u001B[38;5;28;01mdef\u001B[39;00m\u001B[38;5;250m \u001B[39m\u001B[34m_set_with_engine\u001B[39m(\u001B[38;5;28mself\u001B[39m, key, value, warn: \u001B[38;5;28mbool\u001B[39m = \u001B[38;5;28;01mTrue\u001B[39;00m) -> \u001B[38;5;28;01mNone\u001B[39;00m:\n\u001B[32m-> \u001B[39m\u001B[32m1370\u001B[39m     loc = \u001B[38;5;28;43mself\u001B[39;49m\u001B[43m.\u001B[49m\u001B[43mindex\u001B[49m\u001B[43m.\u001B[49m\u001B[43mget_loc\u001B[49m\u001B[43m(\u001B[49m\u001B[43mkey\u001B[49m\u001B[43m)\u001B[49m\n\u001B[32m   1372\u001B[39m     \u001B[38;5;66;03m# this is equivalent to self._values[key] = value\u001B[39;00m\n",
      "\u001B[36mFile \u001B[39m\u001B[32mD:\\miniconda3\\envs\\Data_Completion\\Lib\\site-packages\\pandas\\core\\indexes\\base.py:3812\u001B[39m, in \u001B[36mIndex.get_loc\u001B[39m\u001B[34m(self, key)\u001B[39m\n\u001B[32m   3811\u001B[39m         \u001B[38;5;28;01mraise\u001B[39;00m InvalidIndexError(key)\n\u001B[32m-> \u001B[39m\u001B[32m3812\u001B[39m     \u001B[38;5;28;01mraise\u001B[39;00m \u001B[38;5;167;01mKeyError\u001B[39;00m(key) \u001B[38;5;28;01mfrom\u001B[39;00m\u001B[38;5;250m \u001B[39m\u001B[34;01merr\u001B[39;00m\n\u001B[32m   3813\u001B[39m \u001B[38;5;28;01mexcept\u001B[39;00m \u001B[38;5;167;01mTypeError\u001B[39;00m:\n\u001B[32m   3814\u001B[39m     \u001B[38;5;66;03m# If we have a listlike key, _check_indexing_error will raise\u001B[39;00m\n\u001B[32m   3815\u001B[39m     \u001B[38;5;66;03m#  InvalidIndexError. Otherwise we fall through and re-raise\u001B[39;00m\n\u001B[32m   3816\u001B[39m     \u001B[38;5;66;03m#  the TypeError.\u001B[39;00m\n",
      "\u001B[31mKeyError\u001B[39m: 'kb_lang'",
      "\nDuring handling of the above exception, another exception occurred:\n",
      "\u001B[31mKeyboardInterrupt\u001B[39m                         Traceback (most recent call last)",
      "\u001B[36mCell\u001B[39m\u001B[36m \u001B[39m\u001B[32mIn[8]\u001B[39m\u001B[32m, line 32\u001B[39m\n\u001B[32m     29\u001B[39m         row[\u001B[33m\"\u001B[39m\u001B[33mkb_score\u001B[39m\u001B[33m\"\u001B[39m] = \u001B[32m0\u001B[39m\n\u001B[32m     30\u001B[39m     \u001B[38;5;28;01mreturn\u001B[39;00m row\n\u001B[32m---> \u001B[39m\u001B[32m32\u001B[39m data_fixed = \u001B[43mdata\u001B[49m\u001B[43m.\u001B[49m\u001B[43mapply\u001B[49m\u001B[43m(\u001B[49m\u001B[38;5;28;43;01mlambda\u001B[39;49;00m\u001B[43m \u001B[49m\u001B[43mrow\u001B[49m\u001B[43m:\u001B[49m\u001B[43m \u001B[49m\u001B[43mcorrect_with_kb_multilang\u001B[49m\u001B[43m(\u001B[49m\u001B[43mrow\u001B[49m\u001B[43m,\u001B[49m\u001B[43m \u001B[49m\u001B[43mkb\u001B[49m\u001B[43m)\u001B[49m\u001B[43m,\u001B[49m\u001B[43m \u001B[49m\u001B[43maxis\u001B[49m\u001B[43m=\u001B[49m\u001B[32;43m1\u001B[39;49m\u001B[43m)\u001B[49m\n\u001B[32m     33\u001B[39m display(data_fixed.head(\u001B[32m5\u001B[39m))\n",
      "\u001B[36mFile \u001B[39m\u001B[32mD:\\miniconda3\\envs\\Data_Completion\\Lib\\site-packages\\pandas\\core\\frame.py:10374\u001B[39m, in \u001B[36mDataFrame.apply\u001B[39m\u001B[34m(self, func, axis, raw, result_type, args, by_row, engine, engine_kwargs, **kwargs)\u001B[39m\n\u001B[32m  10360\u001B[39m \u001B[38;5;28;01mfrom\u001B[39;00m\u001B[38;5;250m \u001B[39m\u001B[34;01mpandas\u001B[39;00m\u001B[34;01m.\u001B[39;00m\u001B[34;01mcore\u001B[39;00m\u001B[34;01m.\u001B[39;00m\u001B[34;01mapply\u001B[39;00m\u001B[38;5;250m \u001B[39m\u001B[38;5;28;01mimport\u001B[39;00m frame_apply\n\u001B[32m  10362\u001B[39m op = frame_apply(\n\u001B[32m  10363\u001B[39m     \u001B[38;5;28mself\u001B[39m,\n\u001B[32m  10364\u001B[39m     func=func,\n\u001B[32m   (...)\u001B[39m\u001B[32m  10372\u001B[39m     kwargs=kwargs,\n\u001B[32m  10373\u001B[39m )\n\u001B[32m> \u001B[39m\u001B[32m10374\u001B[39m \u001B[38;5;28;01mreturn\u001B[39;00m \u001B[43mop\u001B[49m\u001B[43m.\u001B[49m\u001B[43mapply\u001B[49m\u001B[43m(\u001B[49m\u001B[43m)\u001B[49m.__finalize__(\u001B[38;5;28mself\u001B[39m, method=\u001B[33m\"\u001B[39m\u001B[33mapply\u001B[39m\u001B[33m\"\u001B[39m)\n",
      "\u001B[36mFile \u001B[39m\u001B[32mD:\\miniconda3\\envs\\Data_Completion\\Lib\\site-packages\\pandas\\core\\apply.py:916\u001B[39m, in \u001B[36mFrameApply.apply\u001B[39m\u001B[34m(self)\u001B[39m\n\u001B[32m    913\u001B[39m \u001B[38;5;28;01melif\u001B[39;00m \u001B[38;5;28mself\u001B[39m.raw:\n\u001B[32m    914\u001B[39m     \u001B[38;5;28;01mreturn\u001B[39;00m \u001B[38;5;28mself\u001B[39m.apply_raw(engine=\u001B[38;5;28mself\u001B[39m.engine, engine_kwargs=\u001B[38;5;28mself\u001B[39m.engine_kwargs)\n\u001B[32m--> \u001B[39m\u001B[32m916\u001B[39m \u001B[38;5;28;01mreturn\u001B[39;00m \u001B[38;5;28;43mself\u001B[39;49m\u001B[43m.\u001B[49m\u001B[43mapply_standard\u001B[49m\u001B[43m(\u001B[49m\u001B[43m)\u001B[49m\n",
      "\u001B[36mFile \u001B[39m\u001B[32mD:\\miniconda3\\envs\\Data_Completion\\Lib\\site-packages\\pandas\\core\\apply.py:1063\u001B[39m, in \u001B[36mFrameApply.apply_standard\u001B[39m\u001B[34m(self)\u001B[39m\n\u001B[32m   1061\u001B[39m \u001B[38;5;28;01mdef\u001B[39;00m\u001B[38;5;250m \u001B[39m\u001B[34mapply_standard\u001B[39m(\u001B[38;5;28mself\u001B[39m):\n\u001B[32m   1062\u001B[39m     \u001B[38;5;28;01mif\u001B[39;00m \u001B[38;5;28mself\u001B[39m.engine == \u001B[33m\"\u001B[39m\u001B[33mpython\u001B[39m\u001B[33m\"\u001B[39m:\n\u001B[32m-> \u001B[39m\u001B[32m1063\u001B[39m         results, res_index = \u001B[38;5;28;43mself\u001B[39;49m\u001B[43m.\u001B[49m\u001B[43mapply_series_generator\u001B[49m\u001B[43m(\u001B[49m\u001B[43m)\u001B[49m\n\u001B[32m   1064\u001B[39m     \u001B[38;5;28;01melse\u001B[39;00m:\n\u001B[32m   1065\u001B[39m         results, res_index = \u001B[38;5;28mself\u001B[39m.apply_series_numba()\n",
      "\u001B[36mFile \u001B[39m\u001B[32mD:\\miniconda3\\envs\\Data_Completion\\Lib\\site-packages\\pandas\\core\\apply.py:1081\u001B[39m, in \u001B[36mFrameApply.apply_series_generator\u001B[39m\u001B[34m(self)\u001B[39m\n\u001B[32m   1078\u001B[39m \u001B[38;5;28;01mwith\u001B[39;00m option_context(\u001B[33m\"\u001B[39m\u001B[33mmode.chained_assignment\u001B[39m\u001B[33m\"\u001B[39m, \u001B[38;5;28;01mNone\u001B[39;00m):\n\u001B[32m   1079\u001B[39m     \u001B[38;5;28;01mfor\u001B[39;00m i, v \u001B[38;5;129;01min\u001B[39;00m \u001B[38;5;28menumerate\u001B[39m(series_gen):\n\u001B[32m   1080\u001B[39m         \u001B[38;5;66;03m# ignore SettingWithCopy here in case the user mutates\u001B[39;00m\n\u001B[32m-> \u001B[39m\u001B[32m1081\u001B[39m         results[i] = \u001B[38;5;28;43mself\u001B[39;49m\u001B[43m.\u001B[49m\u001B[43mfunc\u001B[49m\u001B[43m(\u001B[49m\u001B[43mv\u001B[49m\u001B[43m,\u001B[49m\u001B[43m \u001B[49m\u001B[43m*\u001B[49m\u001B[38;5;28;43mself\u001B[39;49m\u001B[43m.\u001B[49m\u001B[43margs\u001B[49m\u001B[43m,\u001B[49m\u001B[43m \u001B[49m\u001B[43m*\u001B[49m\u001B[43m*\u001B[49m\u001B[38;5;28;43mself\u001B[39;49m\u001B[43m.\u001B[49m\u001B[43mkwargs\u001B[49m\u001B[43m)\u001B[49m\n\u001B[32m   1082\u001B[39m         \u001B[38;5;28;01mif\u001B[39;00m \u001B[38;5;28misinstance\u001B[39m(results[i], ABCSeries):\n\u001B[32m   1083\u001B[39m             \u001B[38;5;66;03m# If we have a view on v, we need to make a copy because\u001B[39;00m\n\u001B[32m   1084\u001B[39m             \u001B[38;5;66;03m#  series_generator will swap out the underlying data\u001B[39;00m\n\u001B[32m   1085\u001B[39m             results[i] = results[i].copy(deep=\u001B[38;5;28;01mFalse\u001B[39;00m)\n",
      "\u001B[36mCell\u001B[39m\u001B[36m \u001B[39m\u001B[32mIn[8]\u001B[39m\u001B[32m, line 32\u001B[39m, in \u001B[36m<lambda>\u001B[39m\u001B[34m(row)\u001B[39m\n\u001B[32m     29\u001B[39m         row[\u001B[33m\"\u001B[39m\u001B[33mkb_score\u001B[39m\u001B[33m\"\u001B[39m] = \u001B[32m0\u001B[39m\n\u001B[32m     30\u001B[39m     \u001B[38;5;28;01mreturn\u001B[39;00m row\n\u001B[32m---> \u001B[39m\u001B[32m32\u001B[39m data_fixed = data.apply(\u001B[38;5;28;01mlambda\u001B[39;00m row: \u001B[43mcorrect_with_kb_multilang\u001B[49m\u001B[43m(\u001B[49m\u001B[43mrow\u001B[49m\u001B[43m,\u001B[49m\u001B[43m \u001B[49m\u001B[43mkb\u001B[49m\u001B[43m)\u001B[49m, axis=\u001B[32m1\u001B[39m)\n\u001B[32m     33\u001B[39m display(data_fixed.head(\u001B[32m5\u001B[39m))\n",
      "\u001B[36mCell\u001B[39m\u001B[36m \u001B[39m\u001B[32mIn[8]\u001B[39m\u001B[32m, line 28\u001B[39m, in \u001B[36mcorrect_with_kb_multilang\u001B[39m\u001B[34m(row, kb, langs, score_cutoff)\u001B[39m\n\u001B[32m     26\u001B[39m     row[\u001B[33m\"\u001B[39m\u001B[33mpublisher_corrected\u001B[39m\u001B[33m\"\u001B[39m] = row.get(\u001B[33m\"\u001B[39m\u001B[33mpublisher\u001B[39m\u001B[33m\"\u001B[39m)\n\u001B[32m     27\u001B[39m     row[\u001B[33m\"\u001B[39m\u001B[33mcategory_corrected\u001B[39m\u001B[33m\"\u001B[39m] = row.get(\u001B[33m\"\u001B[39m\u001B[33mcategory\u001B[39m\u001B[33m\"\u001B[39m)\n\u001B[32m---> \u001B[39m\u001B[32m28\u001B[39m     \u001B[43mrow\u001B[49m\u001B[43m[\u001B[49m\u001B[33;43m\"\u001B[39;49m\u001B[33;43mkb_lang\u001B[39;49m\u001B[33;43m\"\u001B[39;49m\u001B[43m]\u001B[49m = \u001B[38;5;28;01mNone\u001B[39;00m\n\u001B[32m     29\u001B[39m     row[\u001B[33m\"\u001B[39m\u001B[33mkb_score\u001B[39m\u001B[33m\"\u001B[39m] = \u001B[32m0\u001B[39m\n\u001B[32m     30\u001B[39m \u001B[38;5;28;01mreturn\u001B[39;00m row\n",
      "\u001B[36mFile \u001B[39m\u001B[32mD:\\miniconda3\\envs\\Data_Completion\\Lib\\site-packages\\pandas\\core\\series.py:1322\u001B[39m, in \u001B[36mSeries.__setitem__\u001B[39m\u001B[34m(self, key, value)\u001B[39m\n\u001B[32m   1319\u001B[39m             \u001B[38;5;28mself\u001B[39m._set_values(key, value)\n\u001B[32m   1320\u001B[39m     \u001B[38;5;28;01melse\u001B[39;00m:\n\u001B[32m   1321\u001B[39m         \u001B[38;5;66;03m# GH#12862 adding a new key to the Series\u001B[39;00m\n\u001B[32m-> \u001B[39m\u001B[32m1322\u001B[39m         \u001B[38;5;28;43mself\u001B[39;49m\u001B[43m.\u001B[49m\u001B[43mloc\u001B[49m\u001B[43m[\u001B[49m\u001B[43mkey\u001B[49m\u001B[43m]\u001B[49m = value\n\u001B[32m   1324\u001B[39m \u001B[38;5;28;01mexcept\u001B[39;00m (\u001B[38;5;167;01mTypeError\u001B[39;00m, \u001B[38;5;167;01mValueError\u001B[39;00m, LossySetitemError):\n\u001B[32m   1325\u001B[39m     \u001B[38;5;66;03m# The key was OK, but we cannot set the value losslessly\u001B[39;00m\n\u001B[32m   1326\u001B[39m     indexer = \u001B[38;5;28mself\u001B[39m.index.get_loc(key)\n",
      "\u001B[36mFile \u001B[39m\u001B[32mD:\\miniconda3\\envs\\Data_Completion\\Lib\\site-packages\\pandas\\core\\indexing.py:911\u001B[39m, in \u001B[36m_LocationIndexer.__setitem__\u001B[39m\u001B[34m(self, key, value)\u001B[39m\n\u001B[32m    908\u001B[39m \u001B[38;5;28mself\u001B[39m._has_valid_setitem_indexer(key)\n\u001B[32m    910\u001B[39m iloc = \u001B[38;5;28mself\u001B[39m \u001B[38;5;28;01mif\u001B[39;00m \u001B[38;5;28mself\u001B[39m.name == \u001B[33m\"\u001B[39m\u001B[33miloc\u001B[39m\u001B[33m\"\u001B[39m \u001B[38;5;28;01melse\u001B[39;00m \u001B[38;5;28mself\u001B[39m.obj.iloc\n\u001B[32m--> \u001B[39m\u001B[32m911\u001B[39m \u001B[43miloc\u001B[49m\u001B[43m.\u001B[49m\u001B[43m_setitem_with_indexer\u001B[49m\u001B[43m(\u001B[49m\u001B[43mindexer\u001B[49m\u001B[43m,\u001B[49m\u001B[43m \u001B[49m\u001B[43mvalue\u001B[49m\u001B[43m,\u001B[49m\u001B[43m \u001B[49m\u001B[38;5;28;43mself\u001B[39;49m\u001B[43m.\u001B[49m\u001B[43mname\u001B[49m\u001B[43m)\u001B[49m\n",
      "\u001B[36mFile \u001B[39m\u001B[32mD:\\miniconda3\\envs\\Data_Completion\\Lib\\site-packages\\pandas\\core\\indexing.py:1932\u001B[39m, in \u001B[36m_iLocIndexer._setitem_with_indexer\u001B[39m\u001B[34m(self, indexer, value, name)\u001B[39m\n\u001B[32m   1929\u001B[39m     indexer, missing = convert_missing_indexer(indexer)\n\u001B[32m   1931\u001B[39m     \u001B[38;5;28;01mif\u001B[39;00m missing:\n\u001B[32m-> \u001B[39m\u001B[32m1932\u001B[39m         \u001B[38;5;28;43mself\u001B[39;49m\u001B[43m.\u001B[49m\u001B[43m_setitem_with_indexer_missing\u001B[49m\u001B[43m(\u001B[49m\u001B[43mindexer\u001B[49m\u001B[43m,\u001B[49m\u001B[43m \u001B[49m\u001B[43mvalue\u001B[49m\u001B[43m)\u001B[49m\n\u001B[32m   1933\u001B[39m         \u001B[38;5;28;01mreturn\u001B[39;00m\n\u001B[32m   1935\u001B[39m \u001B[38;5;28;01mif\u001B[39;00m name == \u001B[33m\"\u001B[39m\u001B[33mloc\u001B[39m\u001B[33m\"\u001B[39m:\n\u001B[32m   1936\u001B[39m     \u001B[38;5;66;03m# must come after setting of missing\u001B[39;00m\n",
      "\u001B[36mFile \u001B[39m\u001B[32mD:\\miniconda3\\envs\\Data_Completion\\Lib\\site-packages\\pandas\\core\\indexing.py:2276\u001B[39m, in \u001B[36m_iLocIndexer._setitem_with_indexer_missing\u001B[39m\u001B[34m(self, indexer, value)\u001B[39m\n\u001B[32m   2273\u001B[39m \u001B[38;5;28;01melse\u001B[39;00m:\n\u001B[32m   2274\u001B[39m     new_dtype = \u001B[38;5;28;01mNone\u001B[39;00m\n\u001B[32m-> \u001B[39m\u001B[32m2276\u001B[39m new_values = \u001B[43mSeries\u001B[49m\u001B[43m(\u001B[49m\u001B[43m[\u001B[49m\u001B[43mvalue\u001B[49m\u001B[43m]\u001B[49m\u001B[43m,\u001B[49m\u001B[43m \u001B[49m\u001B[43mdtype\u001B[49m\u001B[43m=\u001B[49m\u001B[43mnew_dtype\u001B[49m\u001B[43m)\u001B[49m._values\n\u001B[32m   2278\u001B[39m \u001B[38;5;28;01mif\u001B[39;00m \u001B[38;5;28mlen\u001B[39m(\u001B[38;5;28mself\u001B[39m.obj._values):\n\u001B[32m   2279\u001B[39m     \u001B[38;5;66;03m# GH#22717 handle casting compatibility that np.concatenate\u001B[39;00m\n\u001B[32m   2280\u001B[39m     \u001B[38;5;66;03m#  does incorrectly\u001B[39;00m\n\u001B[32m   2281\u001B[39m     new_values = concat_compat([\u001B[38;5;28mself\u001B[39m.obj._values, new_values])\n",
      "\u001B[36mFile \u001B[39m\u001B[32mD:\\miniconda3\\envs\\Data_Completion\\Lib\\site-packages\\pandas\\core\\series.py:593\u001B[39m, in \u001B[36mSeries.__init__\u001B[39m\u001B[34m(self, data, index, dtype, name, copy, fastpath)\u001B[39m\n\u001B[32m    590\u001B[39m         data = SingleArrayManager.from_array(data, index)\n\u001B[32m    592\u001B[39m NDFrame.\u001B[34m__init__\u001B[39m(\u001B[38;5;28mself\u001B[39m, data)\n\u001B[32m--> \u001B[39m\u001B[32m593\u001B[39m \u001B[38;5;28;43mself\u001B[39;49m\u001B[43m.\u001B[49m\u001B[43mname\u001B[49m = name\n\u001B[32m    594\u001B[39m \u001B[38;5;28mself\u001B[39m._set_axis(\u001B[32m0\u001B[39m, index)\n\u001B[32m    596\u001B[39m \u001B[38;5;28;01mif\u001B[39;00m original_dtype \u001B[38;5;129;01mis\u001B[39;00m \u001B[38;5;28;01mNone\u001B[39;00m \u001B[38;5;129;01mand\u001B[39;00m is_pandas_object \u001B[38;5;129;01mand\u001B[39;00m data_dtype == np.object_:\n",
      "\u001B[36mFile \u001B[39m\u001B[32mD:\\miniconda3\\envs\\Data_Completion\\Lib\\site-packages\\pandas\\core\\generic.py:6320\u001B[39m, in \u001B[36mNDFrame.__setattr__\u001B[39m\u001B[34m(self, name, value)\u001B[39m\n\u001B[32m   6317\u001B[39m \u001B[38;5;66;03m# if this fails, go on to more involved attribute setting\u001B[39;00m\n\u001B[32m   6318\u001B[39m \u001B[38;5;66;03m# (note that this matches __getattr__, above).\u001B[39;00m\n\u001B[32m   6319\u001B[39m \u001B[38;5;28;01mif\u001B[39;00m name \u001B[38;5;129;01min\u001B[39;00m \u001B[38;5;28mself\u001B[39m._internal_names_set:\n\u001B[32m-> \u001B[39m\u001B[32m6320\u001B[39m     \u001B[38;5;28;43mobject\u001B[39;49m\u001B[43m.\u001B[49m\u001B[34;43m__setattr__\u001B[39;49m\u001B[43m(\u001B[49m\u001B[38;5;28;43mself\u001B[39;49m\u001B[43m,\u001B[49m\u001B[43m \u001B[49m\u001B[43mname\u001B[49m\u001B[43m,\u001B[49m\u001B[43m \u001B[49m\u001B[43mvalue\u001B[49m\u001B[43m)\u001B[49m\n\u001B[32m   6321\u001B[39m \u001B[38;5;28;01melif\u001B[39;00m name \u001B[38;5;129;01min\u001B[39;00m \u001B[38;5;28mself\u001B[39m._metadata:\n\u001B[32m   6322\u001B[39m     \u001B[38;5;28mobject\u001B[39m.\u001B[34m__setattr__\u001B[39m(\u001B[38;5;28mself\u001B[39m, name, value)\n",
      "\u001B[36mFile \u001B[39m\u001B[32mD:\\miniconda3\\envs\\Data_Completion\\Lib\\site-packages\\pandas\\core\\series.py:786\u001B[39m, in \u001B[36mSeries.name\u001B[39m\u001B[34m(self, value)\u001B[39m\n\u001B[32m    784\u001B[39m \u001B[38;5;129m@name\u001B[39m.setter\n\u001B[32m    785\u001B[39m \u001B[38;5;28;01mdef\u001B[39;00m\u001B[38;5;250m \u001B[39m\u001B[34mname\u001B[39m(\u001B[38;5;28mself\u001B[39m, value: Hashable) -> \u001B[38;5;28;01mNone\u001B[39;00m:\n\u001B[32m--> \u001B[39m\u001B[32m786\u001B[39m     \u001B[43mvalidate_all_hashable\u001B[49m\u001B[43m(\u001B[49m\u001B[43mvalue\u001B[49m\u001B[43m,\u001B[49m\u001B[43m \u001B[49m\u001B[43merror_name\u001B[49m\u001B[43m=\u001B[49m\u001B[33;43mf\u001B[39;49m\u001B[33;43m\"\u001B[39;49m\u001B[38;5;132;43;01m{\u001B[39;49;00m\u001B[38;5;28;43mtype\u001B[39;49m\u001B[43m(\u001B[49m\u001B[38;5;28;43mself\u001B[39;49m\u001B[43m)\u001B[49m\u001B[43m.\u001B[49m\u001B[34;43m__name__\u001B[39;49m\u001B[38;5;132;43;01m}\u001B[39;49;00m\u001B[33;43m.name\u001B[39;49m\u001B[33;43m\"\u001B[39;49m\u001B[43m)\u001B[49m\n\u001B[32m    787\u001B[39m     \u001B[38;5;28mobject\u001B[39m.\u001B[34m__setattr__\u001B[39m(\u001B[38;5;28mself\u001B[39m, \u001B[33m\"\u001B[39m\u001B[33m_name\u001B[39m\u001B[33m\"\u001B[39m, value)\n",
      "\u001B[36mFile \u001B[39m\u001B[32mD:\\miniconda3\\envs\\Data_Completion\\Lib\\site-packages\\pandas\\core\\dtypes\\common.py:1571\u001B[39m, in \u001B[36mvalidate_all_hashable\u001B[39m\u001B[34m(error_name, *args)\u001B[39m\n\u001B[32m   1564\u001B[39m     \u001B[38;5;28;01mif\u001B[39;00m typ \u001B[38;5;129;01mnot\u001B[39;00m \u001B[38;5;129;01min\u001B[39;00m [\u001B[33m\"\u001B[39m\u001B[33mgeneric\u001B[39m\u001B[33m\"\u001B[39m, \u001B[33m\"\u001B[39m\u001B[33mns\u001B[39m\u001B[33m\"\u001B[39m]:\n\u001B[32m   1565\u001B[39m         \u001B[38;5;28;01mraise\u001B[39;00m \u001B[38;5;167;01mValueError\u001B[39;00m(\n\u001B[32m   1566\u001B[39m             \u001B[33mf\u001B[39m\u001B[33m\"\u001B[39m\u001B[38;5;132;01m{\u001B[39;00m\u001B[38;5;28mrepr\u001B[39m(dtype.name)\u001B[38;5;132;01m}\u001B[39;00m\u001B[33m is too specific of a frequency, \u001B[39m\u001B[33m\"\u001B[39m\n\u001B[32m   1567\u001B[39m             \u001B[33mf\u001B[39m\u001B[33m\"\u001B[39m\u001B[33mtry passing \u001B[39m\u001B[38;5;132;01m{\u001B[39;00m\u001B[38;5;28mrepr\u001B[39m(dtype.type.\u001B[34m__name__\u001B[39m)\u001B[38;5;132;01m}\u001B[39;00m\u001B[33m\"\u001B[39m\n\u001B[32m   1568\u001B[39m         )\n\u001B[32m-> \u001B[39m\u001B[32m1571\u001B[39m \u001B[38;5;28;01mdef\u001B[39;00m\u001B[38;5;250m \u001B[39m\u001B[34mvalidate_all_hashable\u001B[39m(*args, error_name: \u001B[38;5;28mstr\u001B[39m | \u001B[38;5;28;01mNone\u001B[39;00m = \u001B[38;5;28;01mNone\u001B[39;00m) -> \u001B[38;5;28;01mNone\u001B[39;00m:\n\u001B[32m   1572\u001B[39m \u001B[38;5;250m    \u001B[39m\u001B[33;03m\"\"\"\u001B[39;00m\n\u001B[32m   1573\u001B[39m \u001B[33;03m    Return None if all args are hashable, else raise a TypeError.\u001B[39;00m\n\u001B[32m   1574\u001B[39m \n\u001B[32m   (...)\u001B[39m\u001B[32m   1588\u001B[39m \u001B[33;03m    None\u001B[39;00m\n\u001B[32m   1589\u001B[39m \u001B[33;03m    \"\"\"\u001B[39;00m\n\u001B[32m   1590\u001B[39m     \u001B[38;5;28;01mif\u001B[39;00m \u001B[38;5;129;01mnot\u001B[39;00m \u001B[38;5;28mall\u001B[39m(is_hashable(arg) \u001B[38;5;28;01mfor\u001B[39;00m arg \u001B[38;5;129;01min\u001B[39;00m args):\n",
      "\u001B[31mKeyboardInterrupt\u001B[39m: "
     ]
    }
   ],
   "execution_count": 8
  },
  {
   "metadata": {},
   "cell_type": "markdown",
   "source": "## Eksport",
   "id": "302594368a725d9f"
  },
  {
   "metadata": {},
   "cell_type": "code",
   "outputs": [],
   "execution_count": null,
   "source": [
    "data_fixed.to_csv(\"final_corrected_books_multilang.csv\", index=False)\n",
    "print(\"✔️ Zapisano final_corrected_books_multilang.csv\")"
   ],
   "id": "d0a247d04ebc79a9"
  },
  {
   "metadata": {},
   "cell_type": "markdown",
   "source": "## Walidacja i analiza wyników",
   "id": "7392c3903aca2f6f"
  },
  {
   "metadata": {},
   "cell_type": "code",
   "outputs": [],
   "execution_count": null,
   "source": [
    "reference = None\n",
    "try:\n",
    "    reference = pd.read_csv(\"../test_results/books_reference.csv\"\n",
    "    data_fixed[\"title_true\"] = reference[\"title\"]\n",
    "    data_fixed[\"authors_true\"] = reference[\"authors\"]\n",
    "    data_fixed[\"publisher_true\"] = reference[\"publisher\"]\n",
    "    data_fixed[\"category_true\"] = reference[\"category\"]\n",
    "except Exception as e:\n",
    "    print(\"Brak pliku original.csv lub niezgodność danych. Walidacja tylko na podstawie tytułów przed/po.\")\n",
    "def sim(a, b):\n",
    "    if pd.isna(a) or pd.isna(b):\n",
    "        return 0\n",
    "    return SequenceMatcher(None, str(a), str(b)).ratio()\n",
    "\n",
    "data_fixed[\"title_sim_before\"] = data_fixed.apply(lambda r: sim(r[\"title\"], r.get(\"title_true\", \"\")), axis=1)\n",
    "data_fixed[\"title_sim_after\"]  = data_fixed.apply(lambda r: sim(r[\"title_corrected\"], r.get(\"title_true\", \"\")), axis=1)\n",
    "\n",
    "plt.figure(figsize=(7,3))\n",
    "sns.histplot(data_fixed[\"title_sim_before\"], label=\"Przed RDF\", color=\"orange\", kde=True, stat='density')\n",
    "sns.histplot(data_fixed[\"title_sim_after\"], label=\"Po RDF\", color=\"green\", kde=True, stat='density')\n",
    "plt.title(\"Podobieństwo tytułu do referencyjnego (przed/po)\")\n",
    "plt.xlabel(\"Levenshtein similarity [0–1]\")\n",
    "plt.legend(); plt.show()\n",
    "\n",
    "# Ile rekordów się poprawiło?\n",
    "improved = (data_fixed[\"title_sim_after\"] > data_fixed[\"title_sim_before\"]).sum()\n",
    "no_change = (data_fixed[\"title_sim_after\"] == data_fixed[\"title_sim_before\"]).sum()\n",
    "worse = (data_fixed[\"title_sim_after\"] < data_fixed[\"title_sim_before\"]).sum()\n",
    "\n",
    "plt.figure(figsize=(4,2.5))\n",
    "plt.bar([\"Poprawione\", \"Bez zmiany\", \"Pogorszone\"], [improved, no_change, worse], color=[\"green\", \"gray\", \"red\"])\n",
    "plt.ylabel(\"Liczba rekordów\")\n",
    "plt.title(\"Efekt korekty przez RDF\")\n",
    "plt.show()\n",
    "\n",
    "# Podsumowanie po języku, w którym znaleziono dopasowanie\n",
    "plt.figure(figsize=(8,3))\n",
    "sns.countplot(data=data_fixed, x=\"kb_lang\", order=LANGS)\n",
    "plt.ylabel(\"Liczba rekordów\")\n",
    "plt.xlabel(\"Język rekordu w KB (RDF)\")\n",
    "plt.title(\"Dopasowania po językach\")\n",
    "plt.show()\n",
    "\n",
    "# Wyświetl przykłady, które się poprawiły i pogorszyły\n",
    "print(\"\\nPRZYKŁADY: Poprawione tytuły (przed → po):\\n\")\n",
    "improved_rows = data_fixed[data_fixed[\"title_sim_after\"] > data_fixed[\"title_sim_before\"]].head(3)\n",
    "for _, r in improved_rows.iterrows():\n",
    "    print(\"OCR/T5:\", r[\"title\"])\n",
    "    print(\"Po RDF:\", r[\"title_corrected\"])\n",
    "    print(\"Oryginał:\", r.get(\"title_true\", \"???\"))\n",
    "    print(\"---\")\n",
    "\n",
    "print(\"\\nPRZYKŁADY: Pogorszone tytuły (przed → po):\\n\")\n",
    "worse_rows = data_fixed[data_fixed[\"title_sim_after\"] < data_fixed[\"title_sim_before\"]].head(3)\n",
    "for _, r in worse_rows.iterrows():\n",
    "    print(\"OCR/T5:\", r[\"title\"])\n",
    "    print(\"Po RDF:\", r[\"title_corrected\"])\n",
    "    print(\"Oryginał:\", r.get(\"title_true\", \"???\"))\n",
    "    print(\"---\")"
   ],
   "id": "27440769d60dbfc9"
  }
 ],
 "metadata": {
  "kernelspec": {
   "display_name": "Python 3",
   "language": "python",
   "name": "python3"
  },
  "language_info": {
   "codemirror_mode": {
    "name": "ipython",
    "version": 2
   },
   "file_extension": ".py",
   "mimetype": "text/x-python",
   "name": "python",
   "nbconvert_exporter": "python",
   "pygments_lexer": "ipython2",
   "version": "2.7.6"
  }
 },
 "nbformat": 4,
 "nbformat_minor": 5
}
