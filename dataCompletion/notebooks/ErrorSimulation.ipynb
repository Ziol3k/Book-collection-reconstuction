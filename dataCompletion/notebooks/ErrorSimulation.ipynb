{
 "cells": [
  {
   "metadata": {},
   "cell_type": "markdown",
   "source": [
    "# Notebook: Symulacja błędów OCR\n",
    "\n",
    "**Opis działania:**\n",
    "\n",
    "Symulacja błędów OCR polega na stopniowym przekształcaniu poprawnego tekstu w stylu, który imituje typowe pomyłki algorytmów OCR:\n",
    "1. Zamiana znaków (manualne mapy + `homoglyphs`)\n",
    "2. Swap sąsiednich znaków\n",
    "3. Usunięcia i wstawienia znaków\n",
    "4. Zamiana słów (homofony)"
   ],
   "id": "a50ea659f1b627c7"
  },
  {
   "metadata": {
    "collapsed": true,
    "ExecuteTime": {
     "end_time": "2025-06-13T06:54:09.627047Z",
     "start_time": "2025-06-13T06:54:09.618999Z"
    }
   },
   "cell_type": "code",
   "source": [
    "import pandas as pd\n",
    "import random\n",
    "import re\n",
    "from pathlib import Path\n",
    "\n",
    "from homoglyphs import Homoglyphs"
   ],
   "id": "initial_id",
   "outputs": [],
   "execution_count": 2
  },
  {
   "metadata": {},
   "cell_type": "markdown",
   "source": "## Wczytanie danych",
   "id": "459daa831f51cd89"
  },
  {
   "metadata": {
    "ExecuteTime": {
     "end_time": "2025-06-11T19:49:53.226272Z",
     "start_time": "2025-06-11T19:49:52.671545Z"
    }
   },
   "cell_type": "code",
   "source": [
    "csv_path = Path(\"../Datasets/BooksDatasetSubset/BooksDataset_subset.csv\")\n",
    "books_df = pd.read_csv(csv_path)\n",
    "display(books_df.head())\n"
   ],
   "id": "cf240295e21c613a",
   "outputs": [
    {
     "data": {
      "text/plain": [
       "                                               title  \\\n",
       "0                                      Goat Brothers   \n",
       "1                                 The Missing Person   \n",
       "2                  Don't Eat Your Heart Out Cookbook   \n",
       "3  When Your Corporate Umbrella Begins to Leak: A...   \n",
       "4    Amy Spangler's Breastfeeding : A Parent's Guide   \n",
       "\n",
       "                    authors              category         publisher  \\\n",
       "0          By Colton, Larry     History , General         Doubleday   \n",
       "1        By Grumbach, Doris     Fiction , General  Putnam Pub Group   \n",
       "2  By Piscatella, Joseph C.   Cooking , Reference    Workman Pub Co   \n",
       "3         By Davis, Paul D.                   NaN     Natl Pr Books   \n",
       "4          By Spangler, Amy                   NaN      Amy Spangler   \n",
       "\n",
       "  description publish_month  publish_year  \n",
       "0         NaN       January          1993  \n",
       "1         NaN         March          1981  \n",
       "2         NaN     September          1983  \n",
       "3         NaN         April          1991  \n",
       "4         NaN      February          1997  "
      ],
      "text/html": [
       "<div>\n",
       "<style scoped>\n",
       "    .dataframe tbody tr th:only-of-type {\n",
       "        vertical-align: middle;\n",
       "    }\n",
       "\n",
       "    .dataframe tbody tr th {\n",
       "        vertical-align: top;\n",
       "    }\n",
       "\n",
       "    .dataframe thead th {\n",
       "        text-align: right;\n",
       "    }\n",
       "</style>\n",
       "<table border=\"1\" class=\"dataframe\">\n",
       "  <thead>\n",
       "    <tr style=\"text-align: right;\">\n",
       "      <th></th>\n",
       "      <th>title</th>\n",
       "      <th>authors</th>\n",
       "      <th>category</th>\n",
       "      <th>publisher</th>\n",
       "      <th>description</th>\n",
       "      <th>publish_month</th>\n",
       "      <th>publish_year</th>\n",
       "    </tr>\n",
       "  </thead>\n",
       "  <tbody>\n",
       "    <tr>\n",
       "      <th>0</th>\n",
       "      <td>Goat Brothers</td>\n",
       "      <td>By Colton, Larry</td>\n",
       "      <td>History , General</td>\n",
       "      <td>Doubleday</td>\n",
       "      <td>NaN</td>\n",
       "      <td>January</td>\n",
       "      <td>1993</td>\n",
       "    </tr>\n",
       "    <tr>\n",
       "      <th>1</th>\n",
       "      <td>The Missing Person</td>\n",
       "      <td>By Grumbach, Doris</td>\n",
       "      <td>Fiction , General</td>\n",
       "      <td>Putnam Pub Group</td>\n",
       "      <td>NaN</td>\n",
       "      <td>March</td>\n",
       "      <td>1981</td>\n",
       "    </tr>\n",
       "    <tr>\n",
       "      <th>2</th>\n",
       "      <td>Don't Eat Your Heart Out Cookbook</td>\n",
       "      <td>By Piscatella, Joseph C.</td>\n",
       "      <td>Cooking , Reference</td>\n",
       "      <td>Workman Pub Co</td>\n",
       "      <td>NaN</td>\n",
       "      <td>September</td>\n",
       "      <td>1983</td>\n",
       "    </tr>\n",
       "    <tr>\n",
       "      <th>3</th>\n",
       "      <td>When Your Corporate Umbrella Begins to Leak: A...</td>\n",
       "      <td>By Davis, Paul D.</td>\n",
       "      <td>NaN</td>\n",
       "      <td>Natl Pr Books</td>\n",
       "      <td>NaN</td>\n",
       "      <td>April</td>\n",
       "      <td>1991</td>\n",
       "    </tr>\n",
       "    <tr>\n",
       "      <th>4</th>\n",
       "      <td>Amy Spangler's Breastfeeding : A Parent's Guide</td>\n",
       "      <td>By Spangler, Amy</td>\n",
       "      <td>NaN</td>\n",
       "      <td>Amy Spangler</td>\n",
       "      <td>NaN</td>\n",
       "      <td>February</td>\n",
       "      <td>1997</td>\n",
       "    </tr>\n",
       "  </tbody>\n",
       "</table>\n",
       "</div>"
      ]
     },
     "metadata": {},
     "output_type": "display_data"
    }
   ],
   "execution_count": 69
  },
  {
   "metadata": {},
   "cell_type": "markdown",
   "source": [
    "## Definicja funkcji do symulacji błędów\n",
    "**Inicjalizacja homoglyphs**"
   ],
   "id": "4948de3372a0e872"
  },
  {
   "metadata": {
    "ExecuteTime": {
     "end_time": "2025-06-13T06:54:12.303178Z",
     "start_time": "2025-06-13T06:54:12.273886Z"
    }
   },
   "cell_type": "code",
   "source": [
    "hg = Homoglyphs()\n",
    "\n",
    "hg.get_combinations('B')"
   ],
   "id": "23d29bc052311d85",
   "outputs": [
    {
     "data": {
      "text/plain": [
       "['B',\n",
       " 'ℬ',\n",
       " 'Ꞵ',\n",
       " 'Ｂ',\n",
       " '𝐁',\n",
       " '𝐵',\n",
       " '𝑩',\n",
       " '𝓑',\n",
       " '𝔅',\n",
       " '𝔹',\n",
       " '𝕭',\n",
       " '𝖡',\n",
       " '𝗕',\n",
       " '𝘉',\n",
       " '𝘽',\n",
       " '𝙱',\n",
       " '𝚩',\n",
       " '𝛣',\n",
       " '𝜝',\n",
       " '𝝗',\n",
       " '𝞑']"
      ]
     },
     "execution_count": 3,
     "metadata": {},
     "output_type": "execute_result"
    }
   ],
   "execution_count": 3
  },
  {
   "metadata": {},
   "cell_type": "markdown",
   "source": "**Ręczna mapa znaków**",
   "id": "ac9c8a21c5357ba0"
  },
  {
   "metadata": {
    "ExecuteTime": {
     "end_time": "2025-06-11T19:49:53.286050Z",
     "start_time": "2025-06-11T19:49:53.283058Z"
    }
   },
   "cell_type": "code",
   "source": [
    "char_map = {\n",
    "    'l': '1', '1': 'l',\n",
    "    'O': '0', '0': 'O',\n",
    "    'm': 'rn', 'rn': 'm',\n",
    "    'a': '@', '@': 'a',\n",
    "    'e': 'c', 'c': 'e'\n",
    "}\n",
    "\n",
    "def ocr_char_replace_manual(text, prob=0.05):\n",
    "    if not isinstance(text, str): return text\n",
    "    chars = list(text)\n",
    "    for i, ch in enumerate(chars):\n",
    "        if random.random() < prob and ch in char_map:\n",
    "            chars[i] = char_map[ch]\n",
    "    return ''.join(chars)\n",
    "\n",
    "\n"
   ],
   "id": "e4d1692203b50555",
   "outputs": [],
   "execution_count": 71
  },
  {
   "metadata": {},
   "cell_type": "markdown",
   "source": "**Zamiany znaków z homoglyphs**",
   "id": "544c02b7bb5a48af"
  },
  {
   "metadata": {
    "ExecuteTime": {
     "end_time": "2025-06-11T19:49:53.317604Z",
     "start_time": "2025-06-11T19:49:53.314198Z"
    }
   },
   "cell_type": "code",
   "source": [
    "def ocr_char_replace_homoglyph(text, prob=0.05):\n",
    "    if not isinstance(text, str): return text\n",
    "    chars = list(text)\n",
    "    for i, ch in enumerate(chars):\n",
    "        if random.random() < prob:\n",
    "            alternatives = hg.get_combinations(ch)\n",
    "            if alternatives:\n",
    "                chars[i] = random.choice(alternatives)\n",
    "    return ''.join(chars)\n"
   ],
   "id": "d17f10d0f8e5746b",
   "outputs": [],
   "execution_count": 72
  },
  {
   "metadata": {},
   "cell_type": "markdown",
   "source": "**Swap sąsiednich znaków**",
   "id": "14e045c19946de82"
  },
  {
   "metadata": {
    "ExecuteTime": {
     "end_time": "2025-06-11T19:49:53.334324Z",
     "start_time": "2025-06-11T19:49:53.330678Z"
    }
   },
   "cell_type": "code",
   "source": [
    "def ocr_swap(text, prob=0.03):\n",
    "    if not isinstance(text, str) or len(text) < 2: return text\n",
    "    chars = list(text)\n",
    "    for i in range(len(chars)-1):\n",
    "        if random.random() < prob:\n",
    "            chars[i], chars[i+1] = chars[i+1], chars[i]\n",
    "    return ''.join(chars)\n"
   ],
   "id": "24c7fe9eb39822e6",
   "outputs": [],
   "execution_count": 73
  },
  {
   "metadata": {},
   "cell_type": "markdown",
   "source": "**Usunięcia i wstawienia**",
   "id": "8d92750a5d8d60a1"
  },
  {
   "metadata": {
    "ExecuteTime": {
     "end_time": "2025-06-11T19:49:53.347294Z",
     "start_time": "2025-06-11T19:49:53.342847Z"
    }
   },
   "cell_type": "code",
   "source": [
    "def ocr_delete_insert(text, del_prob=0.02, ins_prob=0.02):\n",
    "    if not isinstance(text, str): return text\n",
    "    # deletions\n",
    "    if random.random() < del_prob and len(text) > 3:\n",
    "        idx = random.randrange(len(text))\n",
    "        text = text[:idx] + text[idx+1:]\n",
    "    # insertions\n",
    "    if random.random() < ins_prob:\n",
    "        idx = random.randrange(len(text)+1)\n",
    "        text = text[:idx] + random.choice('abcdefghijklmnopqrstuvwxyz') + text[idx:]\n",
    "    return text\n"
   ],
   "id": "dae5ae43f6308967",
   "outputs": [],
   "execution_count": 74
  },
  {
   "metadata": {},
   "cell_type": "markdown",
   "source": "**Zamiana wieloznakowych sekwencji (np. 'cl' -> 'd')**",
   "id": "f1bb22a8af7f8f3a"
  },
  {
   "metadata": {
    "ExecuteTime": {
     "end_time": "2025-06-11T19:49:53.361389Z",
     "start_time": "2025-06-11T19:49:53.357326Z"
    }
   },
   "cell_type": "code",
   "source": [
    "sequence_map = {\n",
    "    'cl': 'd',\n",
    "    'ol': 'd',\n",
    "    'tl': 'll',\n",
    "    'vv': 'w',\n",
    "    'rn': 'm',\n",
    "    'nn': 'm',\n",
    "    'ii': 'u',\n",
    "    'tt': 't',\n",
    "    'ff': 'f',\n",
    "    'oo': 'o',\n",
    "    'aa': 'ä',\n",
    "    'ss': 's',\n",
    "    'sh': 's',\n",
    "    'cj': 'g',\n",
    "    'ck': 'k',\n",
    "    'cd': 'd',\n",
    "    'ri': 'n',\n",
    "    'rl': 'bl',\n",
    "    'mc': 'm',\n",
    "    'nh': 'm',\n",
    "    'om': 'm',\n",
    "    'wc': 'w',\n",
    "    'tr': 't',\n",
    "    'kn': 'n',\n",
    "    'np': 'm',\n",
    "    'ie': 'll',\n",
    "    'po': 'p',\n",
    "    'xo': 'xo',\n",
    "    'ur': 'u',\n",
    "    'ar': 'a'\n",
    "}"
   ],
   "id": "1618e18e30706246",
   "outputs": [],
   "execution_count": 75
  },
  {
   "metadata": {
    "ExecuteTime": {
     "end_time": "2025-06-11T19:49:53.386285Z",
     "start_time": "2025-06-11T19:49:53.381992Z"
    }
   },
   "cell_type": "code",
   "source": [
    "def ocr_sequence_replace(text, prob=0.02):\n",
    "    if not isinstance(text, str):\n",
    "        return text\n",
    "    for seq, rep in sequence_map.items():\n",
    "        if random.random() < prob:\n",
    "            text = re.sub(seq, rep, text)\n",
    "    return text"
   ],
   "id": "2418c7f0746c3a99",
   "outputs": [],
   "execution_count": 76
  },
  {
   "metadata": {},
   "cell_type": "markdown",
   "source": "**Funkcja łącząca wszystkie transformacje Funkcja łącząca wszystkie transformacje**",
   "id": "3ab4848feae4a087"
  },
  {
   "metadata": {
    "ExecuteTime": {
     "end_time": "2025-06-11T19:49:53.396030Z",
     "start_time": "2025-06-11T19:49:53.391793Z"
    }
   },
   "cell_type": "code",
   "source": [
    "def simulate_ocr(text):\n",
    "    text = ocr_char_replace_manual(text)\n",
    "    text = ocr_char_replace_homoglyph(text)\n",
    "    text = ocr_swap(text)\n",
    "    text = ocr_delete_insert(text)\n",
    "    text = ocr_sequence_replace(text)\n",
    "    return text"
   ],
   "id": "28e55e3e9ed175a1",
   "outputs": [],
   "execution_count": 77
  },
  {
   "metadata": {},
   "cell_type": "markdown",
   "source": "## Aplikacja błędów do kolumn",
   "id": "8486a96be3b72638"
  },
  {
   "metadata": {
    "ExecuteTime": {
     "end_time": "2025-06-11T19:49:53.409304Z",
     "start_time": "2025-06-11T19:49:53.405900Z"
    }
   },
   "cell_type": "code",
   "source": [
    "def introduce_ocr_errors(df, cols, error_rate=0.15):\n",
    "    df = df.copy()\n",
    "    for col in cols:\n",
    "        mask = df[col].notnull()\n",
    "        idxs = df.loc[mask].sample(frac=error_rate, random_state=42).index\n",
    "        df.loc[idxs, col] = df.loc[idxs, col].apply(simulate_ocr)\n",
    "    return df\n"
   ],
   "id": "665ca9b412323349",
   "outputs": [],
   "execution_count": 78
  },
  {
   "metadata": {
    "ExecuteTime": {
     "end_time": "2025-06-11T19:49:53.422436Z",
     "start_time": "2025-06-11T19:49:53.419425Z"
    }
   },
   "cell_type": "code",
   "source": [
    "cols_to_corrupt = [\n",
    "    'title',\n",
    "    'authors',\n",
    "    'category',\n",
    "    'publisher',\n",
    "    'description',\n",
    "    'publish_month',\n",
    "    'publish_year'\n",
    "]\n"
   ],
   "id": "eebba68dd6a7a22",
   "outputs": [],
   "execution_count": 79
  },
  {
   "metadata": {
    "ExecuteTime": {
     "end_time": "2025-06-11T19:56:00.412716Z",
     "start_time": "2025-06-11T19:49:53.433300Z"
    }
   },
   "cell_type": "code",
   "source": [
    "n_versions = 10\n",
    "\n",
    "for i in range(n_versions):\n",
    "    books_ocr_i = introduce_ocr_errors(\n",
    "        books_df,\n",
    "        cols=cols_to_corrupt,\n",
    "        error_rate=0.80\n",
    "    )\n",
    "    output_path = Path(f\"../Datasets/BooksDatasetOCR/BooksDataset_OCR_v{i+1}.csv\")\n",
    "    books_ocr_i.to_csv(output_path, index=False)\n",
    "    print(f\"Zapisano wersję z błędami: {output_path}\")\n",
    "\n"
   ],
   "id": "6865b4d64af3fe01",
   "outputs": [
    {
     "name": "stdout",
     "output_type": "stream",
     "text": [
      "Zapisano wersję z błędami: ..\\Datasets\\BooksDatasetOCR\\BooksDataset_OCR_v1.csv\n",
      "Zapisano wersję z błędami: ..\\Datasets\\BooksDatasetOCR\\BooksDataset_OCR_v2.csv\n",
      "Zapisano wersję z błędami: ..\\Datasets\\BooksDatasetOCR\\BooksDataset_OCR_v3.csv\n",
      "Zapisano wersję z błędami: ..\\Datasets\\BooksDatasetOCR\\BooksDataset_OCR_v4.csv\n",
      "Zapisano wersję z błędami: ..\\Datasets\\BooksDatasetOCR\\BooksDataset_OCR_v5.csv\n",
      "Zapisano wersję z błędami: ..\\Datasets\\BooksDatasetOCR\\BooksDataset_OCR_v6.csv\n",
      "Zapisano wersję z błędami: ..\\Datasets\\BooksDatasetOCR\\BooksDataset_OCR_v7.csv\n",
      "Zapisano wersję z błędami: ..\\Datasets\\BooksDatasetOCR\\BooksDataset_OCR_v8.csv\n",
      "Zapisano wersję z błędami: ..\\Datasets\\BooksDatasetOCR\\BooksDataset_OCR_v9.csv\n",
      "Zapisano wersję z błędami: ..\\Datasets\\BooksDatasetOCR\\BooksDataset_OCR_v10.csv\n"
     ]
    }
   ],
   "execution_count": 80
  },
  {
   "metadata": {},
   "cell_type": "markdown",
   "source": "**Przed zamianami**",
   "id": "5383919f36c85ad4"
  },
  {
   "metadata": {
    "ExecuteTime": {
     "end_time": "2025-06-11T19:56:00.449419Z",
     "start_time": "2025-06-11T19:56:00.443484Z"
    }
   },
   "cell_type": "code",
   "source": "display(books_df.head(10))",
   "id": "e12dd35836004338",
   "outputs": [
    {
     "data": {
      "text/plain": [
       "                                               title  \\\n",
       "0                                      Goat Brothers   \n",
       "1                                 The Missing Person   \n",
       "2                  Don't Eat Your Heart Out Cookbook   \n",
       "3  When Your Corporate Umbrella Begins to Leak: A...   \n",
       "4    Amy Spangler's Breastfeeding : A Parent's Guide   \n",
       "5  The Foundation of Leadership: Enduring Princip...   \n",
       "6  Chicken Soup for the Soul: 101 Stories to Open...   \n",
       "7                         Journey Through Heartsongs   \n",
       "8                       In Search of Melancholy Baby   \n",
       "9                                  Christmas Cookies   \n",
       "\n",
       "                                             authors  \\\n",
       "0                                   By Colton, Larry   \n",
       "1                                 By Grumbach, Doris   \n",
       "2                           By Piscatella, Joseph C.   \n",
       "3                                  By Davis, Paul D.   \n",
       "4                                   By Spangler, Amy   \n",
       "5                                       By Short, Bo   \n",
       "6  By Canfield, Jack (COM) and Hansen, Mark Victo...   \n",
       "7                          By Stepanek, Mattie J. T.   \n",
       "8  By Aksyonov, Vassily, Heim, Michael Henry, and...   \n",
       "9     By Eakin, Katherine M. and Deaman, Joane (EDT)   \n",
       "\n",
       "                                     category                  publisher  \\\n",
       "0                           History , General                  Doubleday   \n",
       "1                           Fiction , General           Putnam Pub Group   \n",
       "2                         Cooking , Reference             Workman Pub Co   \n",
       "3                                         NaN              Natl Pr Books   \n",
       "4                                         NaN               Amy Spangler   \n",
       "5                                         NaN            Excalibur Press   \n",
       "6   Self-help , Personal Growth , Self-Esteem  Health Communications Inc   \n",
       "7                            Poetry , General                  VSP Books   \n",
       "8         Biography & Autobiography , General               Random House   \n",
       "9                           Cooking , General               Oxmoor House   \n",
       "\n",
       "                                         description publish_month  \\\n",
       "0                                                NaN       January   \n",
       "1                                                NaN         March   \n",
       "2                                                NaN     September   \n",
       "3                                                NaN         April   \n",
       "4                                                NaN      February   \n",
       "5                                                NaN       January   \n",
       "6                                                NaN           May   \n",
       "7  Collects poems written by the eleven-year-old ...     September   \n",
       "8  The Russian author offers an affectionate chro...          June   \n",
       "9                                                NaN          June   \n",
       "\n",
       "   publish_year  \n",
       "0          1993  \n",
       "1          1981  \n",
       "2          1983  \n",
       "3          1991  \n",
       "4          1997  \n",
       "5          1997  \n",
       "6          1993  \n",
       "7          2001  \n",
       "8          1987  \n",
       "9          1986  "
      ],
      "text/html": [
       "<div>\n",
       "<style scoped>\n",
       "    .dataframe tbody tr th:only-of-type {\n",
       "        vertical-align: middle;\n",
       "    }\n",
       "\n",
       "    .dataframe tbody tr th {\n",
       "        vertical-align: top;\n",
       "    }\n",
       "\n",
       "    .dataframe thead th {\n",
       "        text-align: right;\n",
       "    }\n",
       "</style>\n",
       "<table border=\"1\" class=\"dataframe\">\n",
       "  <thead>\n",
       "    <tr style=\"text-align: right;\">\n",
       "      <th></th>\n",
       "      <th>title</th>\n",
       "      <th>authors</th>\n",
       "      <th>category</th>\n",
       "      <th>publisher</th>\n",
       "      <th>description</th>\n",
       "      <th>publish_month</th>\n",
       "      <th>publish_year</th>\n",
       "    </tr>\n",
       "  </thead>\n",
       "  <tbody>\n",
       "    <tr>\n",
       "      <th>0</th>\n",
       "      <td>Goat Brothers</td>\n",
       "      <td>By Colton, Larry</td>\n",
       "      <td>History , General</td>\n",
       "      <td>Doubleday</td>\n",
       "      <td>NaN</td>\n",
       "      <td>January</td>\n",
       "      <td>1993</td>\n",
       "    </tr>\n",
       "    <tr>\n",
       "      <th>1</th>\n",
       "      <td>The Missing Person</td>\n",
       "      <td>By Grumbach, Doris</td>\n",
       "      <td>Fiction , General</td>\n",
       "      <td>Putnam Pub Group</td>\n",
       "      <td>NaN</td>\n",
       "      <td>March</td>\n",
       "      <td>1981</td>\n",
       "    </tr>\n",
       "    <tr>\n",
       "      <th>2</th>\n",
       "      <td>Don't Eat Your Heart Out Cookbook</td>\n",
       "      <td>By Piscatella, Joseph C.</td>\n",
       "      <td>Cooking , Reference</td>\n",
       "      <td>Workman Pub Co</td>\n",
       "      <td>NaN</td>\n",
       "      <td>September</td>\n",
       "      <td>1983</td>\n",
       "    </tr>\n",
       "    <tr>\n",
       "      <th>3</th>\n",
       "      <td>When Your Corporate Umbrella Begins to Leak: A...</td>\n",
       "      <td>By Davis, Paul D.</td>\n",
       "      <td>NaN</td>\n",
       "      <td>Natl Pr Books</td>\n",
       "      <td>NaN</td>\n",
       "      <td>April</td>\n",
       "      <td>1991</td>\n",
       "    </tr>\n",
       "    <tr>\n",
       "      <th>4</th>\n",
       "      <td>Amy Spangler's Breastfeeding : A Parent's Guide</td>\n",
       "      <td>By Spangler, Amy</td>\n",
       "      <td>NaN</td>\n",
       "      <td>Amy Spangler</td>\n",
       "      <td>NaN</td>\n",
       "      <td>February</td>\n",
       "      <td>1997</td>\n",
       "    </tr>\n",
       "    <tr>\n",
       "      <th>5</th>\n",
       "      <td>The Foundation of Leadership: Enduring Princip...</td>\n",
       "      <td>By Short, Bo</td>\n",
       "      <td>NaN</td>\n",
       "      <td>Excalibur Press</td>\n",
       "      <td>NaN</td>\n",
       "      <td>January</td>\n",
       "      <td>1997</td>\n",
       "    </tr>\n",
       "    <tr>\n",
       "      <th>6</th>\n",
       "      <td>Chicken Soup for the Soul: 101 Stories to Open...</td>\n",
       "      <td>By Canfield, Jack (COM) and Hansen, Mark Victo...</td>\n",
       "      <td>Self-help , Personal Growth , Self-Esteem</td>\n",
       "      <td>Health Communications Inc</td>\n",
       "      <td>NaN</td>\n",
       "      <td>May</td>\n",
       "      <td>1993</td>\n",
       "    </tr>\n",
       "    <tr>\n",
       "      <th>7</th>\n",
       "      <td>Journey Through Heartsongs</td>\n",
       "      <td>By Stepanek, Mattie J. T.</td>\n",
       "      <td>Poetry , General</td>\n",
       "      <td>VSP Books</td>\n",
       "      <td>Collects poems written by the eleven-year-old ...</td>\n",
       "      <td>September</td>\n",
       "      <td>2001</td>\n",
       "    </tr>\n",
       "    <tr>\n",
       "      <th>8</th>\n",
       "      <td>In Search of Melancholy Baby</td>\n",
       "      <td>By Aksyonov, Vassily, Heim, Michael Henry, and...</td>\n",
       "      <td>Biography &amp; Autobiography , General</td>\n",
       "      <td>Random House</td>\n",
       "      <td>The Russian author offers an affectionate chro...</td>\n",
       "      <td>June</td>\n",
       "      <td>1987</td>\n",
       "    </tr>\n",
       "    <tr>\n",
       "      <th>9</th>\n",
       "      <td>Christmas Cookies</td>\n",
       "      <td>By Eakin, Katherine M. and Deaman, Joane (EDT)</td>\n",
       "      <td>Cooking , General</td>\n",
       "      <td>Oxmoor House</td>\n",
       "      <td>NaN</td>\n",
       "      <td>June</td>\n",
       "      <td>1986</td>\n",
       "    </tr>\n",
       "  </tbody>\n",
       "</table>\n",
       "</div>"
      ]
     },
     "metadata": {},
     "output_type": "display_data"
    }
   ],
   "execution_count": 81
  },
  {
   "metadata": {},
   "cell_type": "markdown",
   "source": "**Po zamianach**",
   "id": "c502cb8d55a74d60"
  },
  {
   "metadata": {
    "ExecuteTime": {
     "end_time": "2025-06-11T19:56:00.491234Z",
     "start_time": "2025-06-11T19:56:00.483934Z"
    }
   },
   "cell_type": "code",
   "source": "display(books_ocr_i.head(10))",
   "id": "610713347f047ad7",
   "outputs": [
    {
     "data": {
      "text/plain": [
       "                                               title  \\\n",
       "0                                      Goat Bro𝒽ters   \n",
       "1                                 The 𝜧issing Person   \n",
       "2                  Don't Eat Your Heart Out Cookbook   \n",
       "3  When Your Corportac Umbrella Begins to Leak: Ａ...   \n",
       "4     Amy S𝐩angIer's Breastfeeding : A Paent's Guide   \n",
       "5  The Foundation of Leadership: Enduring Princip...   \n",
       "6  Chicken S𝔬up for t𝚑e Soul: 101 Stℴries to Open...   \n",
       "7                          Jour𝖓ey Thro𝝊gh Heatsongs   \n",
       "8                       In Search oꬵ Mel@nch𝞂ly Baby   \n",
       "9                                  Christm@s Cookies   \n",
       "\n",
       "                                             authors  \\\n",
       "0                                   By Colotn, Larry   \n",
       "1                                 By Gr𝘶mbach, Doris   \n",
       "2                           By Piscatella, Joseph C.   \n",
       "3                                  By Davis, Pau𝘭 D𝅭   \n",
       "4                                   By 𝐒pangler‚ Amy   \n",
       "5                                       By Short, Bo   \n",
       "6  By 𝒞anfield, Jack (COM) an dHansen, 𝔐ark 𝔙i𝘤to...   \n",
       "7                          By Stepanek, Mattie J. T.   \n",
       "8  By Aksyonov, Vassily, Heim, Miehael Henry, and...   \n",
       "9     By Eakin ,Katheri𝐧e M. and Deaman, Joane (EDT)   \n",
       "\n",
       "                                     category                  publisher  \\\n",
       "0                           History , 𝐆eneral                  Doub1eday   \n",
       "1                           Fiction , G𝗲neral           Putnam Pub Group   \n",
       "2                         Cooking , Reference             Workman Pub Co   \n",
       "3                                         NaN             Natl Ppr Boᴏks   \n",
       "4                                         NaN               Amy Spa𝑛gler   \n",
       "5                                         NaN            Excalibur Press   \n",
       "6   Self-he1p , Personal Growth , Self-Esteem  Hcalth Communic@tions I𝑛c   \n",
       "7                            Poetry , General                  VSP Books   \n",
       "8         Biography & Autobiography , General               Random House   \n",
       "9                           Cooki𝙣g , Gencral               Oxmoor House   \n",
       "\n",
       "                                         description publish_month  \\\n",
       "0                                                NaN       January   \n",
       "1                                                NaN         March   \n",
       "2                                                NaN     September   \n",
       "3                                                NaN         April   \n",
       "4                                                NaN      February   \n",
       "5                                                NaN       January   \n",
       "6                                                NaN           May   \n",
       "7  Collects poems written by the eleven-year-old ...     Septcmber   \n",
       "8  The Russian author offers an 𝑎ffectionate chro...          June   \n",
       "9                                                NaN          June   \n",
       "\n",
       "   publish_year  \n",
       "0          1993  \n",
       "1          1981  \n",
       "2          1983  \n",
       "3          1991  \n",
       "4          1997  \n",
       "5          1997  \n",
       "6          1993  \n",
       "7          2001  \n",
       "8          1987  \n",
       "9          1986  "
      ],
      "text/html": [
       "<div>\n",
       "<style scoped>\n",
       "    .dataframe tbody tr th:only-of-type {\n",
       "        vertical-align: middle;\n",
       "    }\n",
       "\n",
       "    .dataframe tbody tr th {\n",
       "        vertical-align: top;\n",
       "    }\n",
       "\n",
       "    .dataframe thead th {\n",
       "        text-align: right;\n",
       "    }\n",
       "</style>\n",
       "<table border=\"1\" class=\"dataframe\">\n",
       "  <thead>\n",
       "    <tr style=\"text-align: right;\">\n",
       "      <th></th>\n",
       "      <th>title</th>\n",
       "      <th>authors</th>\n",
       "      <th>category</th>\n",
       "      <th>publisher</th>\n",
       "      <th>description</th>\n",
       "      <th>publish_month</th>\n",
       "      <th>publish_year</th>\n",
       "    </tr>\n",
       "  </thead>\n",
       "  <tbody>\n",
       "    <tr>\n",
       "      <th>0</th>\n",
       "      <td>Goat Bro𝒽ters</td>\n",
       "      <td>By Colotn, Larry</td>\n",
       "      <td>History , 𝐆eneral</td>\n",
       "      <td>Doub1eday</td>\n",
       "      <td>NaN</td>\n",
       "      <td>January</td>\n",
       "      <td>1993</td>\n",
       "    </tr>\n",
       "    <tr>\n",
       "      <th>1</th>\n",
       "      <td>The 𝜧issing Person</td>\n",
       "      <td>By Gr𝘶mbach, Doris</td>\n",
       "      <td>Fiction , G𝗲neral</td>\n",
       "      <td>Putnam Pub Group</td>\n",
       "      <td>NaN</td>\n",
       "      <td>March</td>\n",
       "      <td>1981</td>\n",
       "    </tr>\n",
       "    <tr>\n",
       "      <th>2</th>\n",
       "      <td>Don't Eat Your Heart Out Cookbook</td>\n",
       "      <td>By Piscatella, Joseph C.</td>\n",
       "      <td>Cooking , Reference</td>\n",
       "      <td>Workman Pub Co</td>\n",
       "      <td>NaN</td>\n",
       "      <td>September</td>\n",
       "      <td>1983</td>\n",
       "    </tr>\n",
       "    <tr>\n",
       "      <th>3</th>\n",
       "      <td>When Your Corportac Umbrella Begins to Leak: Ａ...</td>\n",
       "      <td>By Davis, Pau𝘭 D𝅭</td>\n",
       "      <td>NaN</td>\n",
       "      <td>Natl Ppr Boᴏks</td>\n",
       "      <td>NaN</td>\n",
       "      <td>April</td>\n",
       "      <td>1991</td>\n",
       "    </tr>\n",
       "    <tr>\n",
       "      <th>4</th>\n",
       "      <td>Amy S𝐩angIer's Breastfeeding : A Paent's Guide</td>\n",
       "      <td>By 𝐒pangler‚ Amy</td>\n",
       "      <td>NaN</td>\n",
       "      <td>Amy Spa𝑛gler</td>\n",
       "      <td>NaN</td>\n",
       "      <td>February</td>\n",
       "      <td>1997</td>\n",
       "    </tr>\n",
       "    <tr>\n",
       "      <th>5</th>\n",
       "      <td>The Foundation of Leadership: Enduring Princip...</td>\n",
       "      <td>By Short, Bo</td>\n",
       "      <td>NaN</td>\n",
       "      <td>Excalibur Press</td>\n",
       "      <td>NaN</td>\n",
       "      <td>January</td>\n",
       "      <td>1997</td>\n",
       "    </tr>\n",
       "    <tr>\n",
       "      <th>6</th>\n",
       "      <td>Chicken S𝔬up for t𝚑e Soul: 101 Stℴries to Open...</td>\n",
       "      <td>By 𝒞anfield, Jack (COM) an dHansen, 𝔐ark 𝔙i𝘤to...</td>\n",
       "      <td>Self-he1p , Personal Growth , Self-Esteem</td>\n",
       "      <td>Hcalth Communic@tions I𝑛c</td>\n",
       "      <td>NaN</td>\n",
       "      <td>May</td>\n",
       "      <td>1993</td>\n",
       "    </tr>\n",
       "    <tr>\n",
       "      <th>7</th>\n",
       "      <td>Jour𝖓ey Thro𝝊gh Heatsongs</td>\n",
       "      <td>By Stepanek, Mattie J. T.</td>\n",
       "      <td>Poetry , General</td>\n",
       "      <td>VSP Books</td>\n",
       "      <td>Collects poems written by the eleven-year-old ...</td>\n",
       "      <td>Septcmber</td>\n",
       "      <td>2001</td>\n",
       "    </tr>\n",
       "    <tr>\n",
       "      <th>8</th>\n",
       "      <td>In Search oꬵ Mel@nch𝞂ly Baby</td>\n",
       "      <td>By Aksyonov, Vassily, Heim, Miehael Henry, and...</td>\n",
       "      <td>Biography &amp; Autobiography , General</td>\n",
       "      <td>Random House</td>\n",
       "      <td>The Russian author offers an 𝑎ffectionate chro...</td>\n",
       "      <td>June</td>\n",
       "      <td>1987</td>\n",
       "    </tr>\n",
       "    <tr>\n",
       "      <th>9</th>\n",
       "      <td>Christm@s Cookies</td>\n",
       "      <td>By Eakin ,Katheri𝐧e M. and Deaman, Joane (EDT)</td>\n",
       "      <td>Cooki𝙣g , Gencral</td>\n",
       "      <td>Oxmoor House</td>\n",
       "      <td>NaN</td>\n",
       "      <td>June</td>\n",
       "      <td>1986</td>\n",
       "    </tr>\n",
       "  </tbody>\n",
       "</table>\n",
       "</div>"
      ]
     },
     "metadata": {},
     "output_type": "display_data"
    }
   ],
   "execution_count": 82
  },
  {
   "metadata": {},
   "cell_type": "markdown",
   "source": "## Zapis wyników",
   "id": "3fbf70aed1523d0b"
  },
  {
   "metadata": {
    "ExecuteTime": {
     "end_time": "2025-06-11T19:56:01.360430Z",
     "start_time": "2025-06-11T19:56:00.535171Z"
    }
   },
   "cell_type": "code",
   "source": "s",
   "id": "4592229a1381af59",
   "outputs": [
    {
     "name": "stdout",
     "output_type": "stream",
     "text": [
      "Zapisano zasymulowane błędy OCR: ..\\Datasets\\BooksDatasetSubset\\BooksDataset_OCR.csv\n"
     ]
    }
   ],
   "execution_count": null
  }
 ],
 "metadata": {
  "kernelspec": {
   "display_name": "Python 3 (ipykernel)",
   "language": "python",
   "name": "python3"
  },
  "language_info": {
   "codemirror_mode": {
    "name": "ipython",
    "version": 2
   },
   "file_extension": ".py",
   "mimetype": "text/x-python",
   "name": "python",
   "nbconvert_exporter": "python",
   "pygments_lexer": "ipython2",
   "version": "2.7.6"
  }
 },
 "nbformat": 4,
 "nbformat_minor": 5
}
